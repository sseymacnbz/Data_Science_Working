{
 "cells": [
  {
   "cell_type": "code",
   "execution_count": 1,
   "metadata": {},
   "outputs": [],
   "source": [
    "import pandas as pd\n",
    "import seaborn as sbn\n",
    "import numpy as np\n",
    "import matplotlib.pyplot as plt"
   ]
  },
  {
   "cell_type": "code",
   "execution_count": 2,
   "metadata": {},
   "outputs": [],
   "source": [
    "df = pd.read_excel(\"merc.xlsx\")"
   ]
  },
  {
   "cell_type": "code",
   "execution_count": 3,
   "metadata": {},
   "outputs": [
    {
     "data": {
      "text/html": [
       "<div>\n",
       "<style scoped>\n",
       "    .dataframe tbody tr th:only-of-type {\n",
       "        vertical-align: middle;\n",
       "    }\n",
       "\n",
       "    .dataframe tbody tr th {\n",
       "        vertical-align: top;\n",
       "    }\n",
       "\n",
       "    .dataframe thead th {\n",
       "        text-align: right;\n",
       "    }\n",
       "</style>\n",
       "<table border=\"1\" class=\"dataframe\">\n",
       "  <thead>\n",
       "    <tr style=\"text-align: right;\">\n",
       "      <th></th>\n",
       "      <th>year</th>\n",
       "      <th>price</th>\n",
       "      <th>transmission</th>\n",
       "      <th>mileage</th>\n",
       "      <th>tax</th>\n",
       "      <th>mpg</th>\n",
       "      <th>engineSize</th>\n",
       "    </tr>\n",
       "  </thead>\n",
       "  <tbody>\n",
       "    <tr>\n",
       "      <th>0</th>\n",
       "      <td>2005</td>\n",
       "      <td>5200</td>\n",
       "      <td>Automatic</td>\n",
       "      <td>63000</td>\n",
       "      <td>325</td>\n",
       "      <td>32.1</td>\n",
       "      <td>1.8</td>\n",
       "    </tr>\n",
       "    <tr>\n",
       "      <th>1</th>\n",
       "      <td>2017</td>\n",
       "      <td>34948</td>\n",
       "      <td>Automatic</td>\n",
       "      <td>27000</td>\n",
       "      <td>20</td>\n",
       "      <td>61.4</td>\n",
       "      <td>2.1</td>\n",
       "    </tr>\n",
       "    <tr>\n",
       "      <th>2</th>\n",
       "      <td>2016</td>\n",
       "      <td>49948</td>\n",
       "      <td>Automatic</td>\n",
       "      <td>6200</td>\n",
       "      <td>555</td>\n",
       "      <td>28.0</td>\n",
       "      <td>5.5</td>\n",
       "    </tr>\n",
       "    <tr>\n",
       "      <th>3</th>\n",
       "      <td>2016</td>\n",
       "      <td>61948</td>\n",
       "      <td>Automatic</td>\n",
       "      <td>16000</td>\n",
       "      <td>325</td>\n",
       "      <td>30.4</td>\n",
       "      <td>4.0</td>\n",
       "    </tr>\n",
       "    <tr>\n",
       "      <th>4</th>\n",
       "      <td>2016</td>\n",
       "      <td>73948</td>\n",
       "      <td>Automatic</td>\n",
       "      <td>4000</td>\n",
       "      <td>325</td>\n",
       "      <td>30.1</td>\n",
       "      <td>4.0</td>\n",
       "    </tr>\n",
       "  </tbody>\n",
       "</table>\n",
       "</div>"
      ],
      "text/plain": [
       "   year  price transmission  mileage  tax   mpg  engineSize\n",
       "0  2005   5200    Automatic    63000  325  32.1         1.8\n",
       "1  2017  34948    Automatic    27000   20  61.4         2.1\n",
       "2  2016  49948    Automatic     6200  555  28.0         5.5\n",
       "3  2016  61948    Automatic    16000  325  30.4         4.0\n",
       "4  2016  73948    Automatic     4000  325  30.1         4.0"
      ]
     },
     "execution_count": 3,
     "metadata": {},
     "output_type": "execute_result"
    }
   ],
   "source": [
    "df.head()"
   ]
  },
  {
   "cell_type": "markdown",
   "metadata": {},
   "source": [
    "# Veriyi Anlamak"
   ]
  },
  {
   "cell_type": "code",
   "execution_count": 4,
   "metadata": {},
   "outputs": [
    {
     "data": {
      "text/html": [
       "<div>\n",
       "<style scoped>\n",
       "    .dataframe tbody tr th:only-of-type {\n",
       "        vertical-align: middle;\n",
       "    }\n",
       "\n",
       "    .dataframe tbody tr th {\n",
       "        vertical-align: top;\n",
       "    }\n",
       "\n",
       "    .dataframe thead th {\n",
       "        text-align: right;\n",
       "    }\n",
       "</style>\n",
       "<table border=\"1\" class=\"dataframe\">\n",
       "  <thead>\n",
       "    <tr style=\"text-align: right;\">\n",
       "      <th></th>\n",
       "      <th>year</th>\n",
       "      <th>price</th>\n",
       "      <th>mileage</th>\n",
       "      <th>tax</th>\n",
       "      <th>mpg</th>\n",
       "      <th>engineSize</th>\n",
       "    </tr>\n",
       "  </thead>\n",
       "  <tbody>\n",
       "    <tr>\n",
       "      <th>count</th>\n",
       "      <td>13119.000000</td>\n",
       "      <td>13119.000000</td>\n",
       "      <td>13119.000000</td>\n",
       "      <td>13119.000000</td>\n",
       "      <td>13119.000000</td>\n",
       "      <td>13119.000000</td>\n",
       "    </tr>\n",
       "    <tr>\n",
       "      <th>mean</th>\n",
       "      <td>2017.296288</td>\n",
       "      <td>24698.596920</td>\n",
       "      <td>21949.559037</td>\n",
       "      <td>129.972178</td>\n",
       "      <td>55.155843</td>\n",
       "      <td>2.071530</td>\n",
       "    </tr>\n",
       "    <tr>\n",
       "      <th>std</th>\n",
       "      <td>2.224709</td>\n",
       "      <td>11842.675542</td>\n",
       "      <td>21176.512267</td>\n",
       "      <td>65.260286</td>\n",
       "      <td>15.220082</td>\n",
       "      <td>0.572426</td>\n",
       "    </tr>\n",
       "    <tr>\n",
       "      <th>min</th>\n",
       "      <td>1970.000000</td>\n",
       "      <td>650.000000</td>\n",
       "      <td>1.000000</td>\n",
       "      <td>0.000000</td>\n",
       "      <td>1.100000</td>\n",
       "      <td>0.000000</td>\n",
       "    </tr>\n",
       "    <tr>\n",
       "      <th>25%</th>\n",
       "      <td>2016.000000</td>\n",
       "      <td>17450.000000</td>\n",
       "      <td>6097.500000</td>\n",
       "      <td>125.000000</td>\n",
       "      <td>45.600000</td>\n",
       "      <td>1.800000</td>\n",
       "    </tr>\n",
       "    <tr>\n",
       "      <th>50%</th>\n",
       "      <td>2018.000000</td>\n",
       "      <td>22480.000000</td>\n",
       "      <td>15189.000000</td>\n",
       "      <td>145.000000</td>\n",
       "      <td>56.500000</td>\n",
       "      <td>2.000000</td>\n",
       "    </tr>\n",
       "    <tr>\n",
       "      <th>75%</th>\n",
       "      <td>2019.000000</td>\n",
       "      <td>28980.000000</td>\n",
       "      <td>31779.500000</td>\n",
       "      <td>145.000000</td>\n",
       "      <td>64.200000</td>\n",
       "      <td>2.100000</td>\n",
       "    </tr>\n",
       "    <tr>\n",
       "      <th>max</th>\n",
       "      <td>2020.000000</td>\n",
       "      <td>159999.000000</td>\n",
       "      <td>259000.000000</td>\n",
       "      <td>580.000000</td>\n",
       "      <td>217.300000</td>\n",
       "      <td>6.200000</td>\n",
       "    </tr>\n",
       "  </tbody>\n",
       "</table>\n",
       "</div>"
      ],
      "text/plain": [
       "               year          price        mileage           tax           mpg  \\\n",
       "count  13119.000000   13119.000000   13119.000000  13119.000000  13119.000000   \n",
       "mean    2017.296288   24698.596920   21949.559037    129.972178     55.155843   \n",
       "std        2.224709   11842.675542   21176.512267     65.260286     15.220082   \n",
       "min     1970.000000     650.000000       1.000000      0.000000      1.100000   \n",
       "25%     2016.000000   17450.000000    6097.500000    125.000000     45.600000   \n",
       "50%     2018.000000   22480.000000   15189.000000    145.000000     56.500000   \n",
       "75%     2019.000000   28980.000000   31779.500000    145.000000     64.200000   \n",
       "max     2020.000000  159999.000000  259000.000000    580.000000    217.300000   \n",
       "\n",
       "         engineSize  \n",
       "count  13119.000000  \n",
       "mean       2.071530  \n",
       "std        0.572426  \n",
       "min        0.000000  \n",
       "25%        1.800000  \n",
       "50%        2.000000  \n",
       "75%        2.100000  \n",
       "max        6.200000  "
      ]
     },
     "execution_count": 4,
     "metadata": {},
     "output_type": "execute_result"
    }
   ],
   "source": [
    "df.describe()"
   ]
  },
  {
   "cell_type": "code",
   "execution_count": 5,
   "metadata": {},
   "outputs": [],
   "source": [
    "#13.119 veri\n",
    "#Ortalama 2017 yılına ait araba var"
   ]
  },
  {
   "cell_type": "code",
   "execution_count": 6,
   "metadata": {},
   "outputs": [
    {
     "data": {
      "text/plain": [
       "year            0\n",
       "price           0\n",
       "transmission    0\n",
       "mileage         0\n",
       "tax             0\n",
       "mpg             0\n",
       "engineSize      0\n",
       "dtype: int64"
      ]
     },
     "execution_count": 6,
     "metadata": {},
     "output_type": "execute_result"
    }
   ],
   "source": [
    "df.isnull().sum()\n",
    "#Hangi kolonda kac tane null veri var?"
   ]
  },
  {
   "cell_type": "markdown",
   "metadata": {},
   "source": [
    "# Grafiksel Analizler"
   ]
  },
  {
   "cell_type": "code",
   "execution_count": 7,
   "metadata": {},
   "outputs": [
    {
     "data": {
      "text/plain": [
       "<matplotlib.axes._subplots.AxesSubplot at 0x250cb37f508>"
      ]
     },
     "execution_count": 7,
     "metadata": {},
     "output_type": "execute_result"
    },
    {
     "data": {
      "image/png": "[encoded data removed]",
      "text/plain": [
       "<Figure size 504x360 with 1 Axes>"
      ]
     },
     "metadata": {
      "needs_background": "light"
     },
     "output_type": "display_data"
    }
   ],
   "source": [
    "plt.figure(figsize = (7,5))\n",
    "sbn.distplot(df[\"price\"])\n",
    "#distribution-> dagilim"
   ]
  },
  {
   "cell_type": "markdown",
   "metadata": {},
   "source": [
    "Grafigi yorumlayalim;\n",
    "Simdi grafige bakarsak 0 civarlarinda baslamis. Tamam\n",
    "Bir yere kadar yukselmis. Tamam\n",
    "Sonra bir dusus var. Tamam\n",
    "Ama grafigin bitmesi taa 150.000 lere gitmis ve grafigin  hemen hemen simetrik bir sekilde dusunursek 50.000-75.000 bitmesini isterdik. Demek ki burda bir sorun var iste\n",
    "\n",
    "Neden? Bizim veri setimizin ortalamasi aslinda 25.000 lerde ama fiyati 75.000 u geckin muhtemelen 50-100 araba var. Bu arabalar yuzunden veri setimizle calisirken sorun cikarabilir\n",
    "\n",
    "Is hayatini dusunursek eger islemlerimizi soyle yapradik\n",
    "Hem verileri silmeyiz yolumuza boylece devam ederiz hem de bu absurt verileri silip oyle bi denerdik\n",
    "\n",
    "Ama biz burda verileri cikartip deneyelim dedik\n"
   ]
  },
  {
   "cell_type": "code",
   "execution_count": 8,
   "metadata": {},
   "outputs": [
    {
     "data": {
      "text/plain": [
       "(array([ 0,  1,  2,  3,  4,  5,  6,  7,  8,  9, 10, 11, 12, 13, 14, 15, 16,\n",
       "        17, 18, 19, 20, 21, 22, 23, 24]),\n",
       " <a list of 25 Text xticklabel objects>)"
      ]
     },
     "execution_count": 8,
     "metadata": {},
     "output_type": "execute_result"
    },
    {
     "data": {
      "image/png": "[encoded data removed]",
      "text/plain": [
       "<Figure size 432x288 with 1 Axes>"
      ]
     },
     "metadata": {
      "needs_background": "light"
     },
     "output_type": "display_data"
    }
   ],
   "source": [
    "#Hangi yildan ne kadar veri var bakalim\n",
    "#Bir seyin kac sayida olduguna bakmak icin=countplot islevseldir\n",
    "sbn.countplot(df[\"year\"])\n",
    "plt.xticks(rotation = 'vertical')"
   ]
  },
  {
   "cell_type": "code",
   "execution_count": 9,
   "metadata": {},
   "outputs": [],
   "source": [
    "#Burdan cok byuk bi cikarim yapmadik su an"
   ]
  },
  {
   "cell_type": "code",
   "execution_count": 10,
   "metadata": {},
   "outputs": [],
   "source": [
    "#Simdi de verilerin birbirleri arasindaki korelasyona(iliskilerine bakalim)"
   ]
  },
  {
   "cell_type": "code",
   "execution_count": 11,
   "metadata": {},
   "outputs": [
    {
     "data": {
      "text/html": [
       "<div>\n",
       "<style scoped>\n",
       "    .dataframe tbody tr th:only-of-type {\n",
       "        vertical-align: middle;\n",
       "    }\n",
       "\n",
       "    .dataframe tbody tr th {\n",
       "        vertical-align: top;\n",
       "    }\n",
       "\n",
       "    .dataframe thead th {\n",
       "        text-align: right;\n",
       "    }\n",
       "</style>\n",
       "<table border=\"1\" class=\"dataframe\">\n",
       "  <thead>\n",
       "    <tr style=\"text-align: right;\">\n",
       "      <th></th>\n",
       "      <th>year</th>\n",
       "      <th>price</th>\n",
       "      <th>mileage</th>\n",
       "      <th>tax</th>\n",
       "      <th>mpg</th>\n",
       "      <th>engineSize</th>\n",
       "    </tr>\n",
       "  </thead>\n",
       "  <tbody>\n",
       "    <tr>\n",
       "      <th>year</th>\n",
       "      <td>1.000000</td>\n",
       "      <td>0.520712</td>\n",
       "      <td>-0.738027</td>\n",
       "      <td>0.012480</td>\n",
       "      <td>-0.094626</td>\n",
       "      <td>-0.142147</td>\n",
       "    </tr>\n",
       "    <tr>\n",
       "      <th>price</th>\n",
       "      <td>0.520712</td>\n",
       "      <td>1.000000</td>\n",
       "      <td>-0.537214</td>\n",
       "      <td>0.268717</td>\n",
       "      <td>-0.438445</td>\n",
       "      <td>0.516126</td>\n",
       "    </tr>\n",
       "    <tr>\n",
       "      <th>mileage</th>\n",
       "      <td>-0.738027</td>\n",
       "      <td>-0.537214</td>\n",
       "      <td>1.000000</td>\n",
       "      <td>-0.160223</td>\n",
       "      <td>0.202850</td>\n",
       "      <td>0.063652</td>\n",
       "    </tr>\n",
       "    <tr>\n",
       "      <th>tax</th>\n",
       "      <td>0.012480</td>\n",
       "      <td>0.268717</td>\n",
       "      <td>-0.160223</td>\n",
       "      <td>1.000000</td>\n",
       "      <td>-0.513742</td>\n",
       "      <td>0.338341</td>\n",
       "    </tr>\n",
       "    <tr>\n",
       "      <th>mpg</th>\n",
       "      <td>-0.094626</td>\n",
       "      <td>-0.438445</td>\n",
       "      <td>0.202850</td>\n",
       "      <td>-0.513742</td>\n",
       "      <td>1.000000</td>\n",
       "      <td>-0.339862</td>\n",
       "    </tr>\n",
       "    <tr>\n",
       "      <th>engineSize</th>\n",
       "      <td>-0.142147</td>\n",
       "      <td>0.516126</td>\n",
       "      <td>0.063652</td>\n",
       "      <td>0.338341</td>\n",
       "      <td>-0.339862</td>\n",
       "      <td>1.000000</td>\n",
       "    </tr>\n",
       "  </tbody>\n",
       "</table>\n",
       "</div>"
      ],
      "text/plain": [
       "                year     price   mileage       tax       mpg  engineSize\n",
       "year        1.000000  0.520712 -0.738027  0.012480 -0.094626   -0.142147\n",
       "price       0.520712  1.000000 -0.537214  0.268717 -0.438445    0.516126\n",
       "mileage    -0.738027 -0.537214  1.000000 -0.160223  0.202850    0.063652\n",
       "tax         0.012480  0.268717 -0.160223  1.000000 -0.513742    0.338341\n",
       "mpg        -0.094626 -0.438445  0.202850 -0.513742  1.000000   -0.339862\n",
       "engineSize -0.142147  0.516126  0.063652  0.338341 -0.339862    1.000000"
      ]
     },
     "execution_count": 11,
     "metadata": {},
     "output_type": "execute_result"
    }
   ],
   "source": [
    "df.corr()"
   ]
  },
  {
   "cell_type": "code",
   "execution_count": 12,
   "metadata": {},
   "outputs": [],
   "source": [
    "#Burda bizi asil ilgilendiren fiyat ve digerleri arasindaki\n",
    "#iliski. Cunku tahminleri orda yapcaz"
   ]
  },
  {
   "cell_type": "code",
   "execution_count": 13,
   "metadata": {},
   "outputs": [
    {
     "data": {
      "text/plain": [
       "mileage      -0.537214\n",
       "mpg          -0.438445\n",
       "tax           0.268717\n",
       "engineSize    0.516126\n",
       "year          0.520712\n",
       "price         1.000000\n",
       "Name: price, dtype: float64"
      ]
     },
     "execution_count": 13,
     "metadata": {},
     "output_type": "execute_result"
    }
   ],
   "source": [
    "df.corr()[\"price\"].sort_values()\n",
    "#sort ile en negatif iliskiden en pozitif iliskiye gore siraladik"
   ]
  },
  {
   "cell_type": "code",
   "execution_count": 14,
   "metadata": {},
   "outputs": [],
   "source": [
    "#Burda fiyati en cok etkileyen yil oldugunu gorduk\n",
    "#Yani yil, motorSize ve vergi(tax) arttikca fiyat da artiyomus\n",
    "#mpg(mil basina yaktigi benzin galon) ve mileage(yani araba kac kilometreseyse)\n",
    "#arttikca da fiyatlar dusuyomus"
   ]
  },
  {
   "cell_type": "markdown",
   "metadata": {},
   "source": [
    "# En Yuksek Fiyatli Arabalarin Tespiti"
   ]
  },
  {
   "cell_type": "code",
   "execution_count": 15,
   "metadata": {},
   "outputs": [
    {
     "data": {
      "text/plain": [
       "<matplotlib.axes._subplots.AxesSubplot at 0x250cd465c08>"
      ]
     },
     "execution_count": 15,
     "metadata": {},
     "output_type": "execute_result"
    },
    {
     "data": {
      "image/png": "[encoded data removed]",
      "text/plain": [
       "<Figure size 432x288 with 1 Axes>"
      ]
     },
     "metadata": {
      "needs_background": "light"
     },
     "output_type": "display_data"
    }
   ],
   "source": [
    "sbn.scatterplot(x = \"mileage\", y = \"price\", data = df)"
   ]
  },
  {
   "cell_type": "code",
   "execution_count": 16,
   "metadata": {},
   "outputs": [],
   "source": [
    "#Kilometre arttikca fiyat azaliyo"
   ]
  },
  {
   "cell_type": "code",
   "execution_count": 17,
   "metadata": {},
   "outputs": [
    {
     "data": {
      "text/html": [
       "<div>\n",
       "<style scoped>\n",
       "    .dataframe tbody tr th:only-of-type {\n",
       "        vertical-align: middle;\n",
       "    }\n",
       "\n",
       "    .dataframe tbody tr th {\n",
       "        vertical-align: top;\n",
       "    }\n",
       "\n",
       "    .dataframe thead th {\n",
       "        text-align: right;\n",
       "    }\n",
       "</style>\n",
       "<table border=\"1\" class=\"dataframe\">\n",
       "  <thead>\n",
       "    <tr style=\"text-align: right;\">\n",
       "      <th></th>\n",
       "      <th>year</th>\n",
       "      <th>price</th>\n",
       "      <th>transmission</th>\n",
       "      <th>mileage</th>\n",
       "      <th>tax</th>\n",
       "      <th>mpg</th>\n",
       "      <th>engineSize</th>\n",
       "    </tr>\n",
       "  </thead>\n",
       "  <tbody>\n",
       "    <tr>\n",
       "      <th>6199</th>\n",
       "      <td>2020</td>\n",
       "      <td>159999</td>\n",
       "      <td>Semi-Auto</td>\n",
       "      <td>1350</td>\n",
       "      <td>145</td>\n",
       "      <td>21.4</td>\n",
       "      <td>4.0</td>\n",
       "    </tr>\n",
       "    <tr>\n",
       "      <th>10044</th>\n",
       "      <td>2020</td>\n",
       "      <td>154998</td>\n",
       "      <td>Automatic</td>\n",
       "      <td>3000</td>\n",
       "      <td>150</td>\n",
       "      <td>21.4</td>\n",
       "      <td>4.0</td>\n",
       "    </tr>\n",
       "    <tr>\n",
       "      <th>5</th>\n",
       "      <td>2011</td>\n",
       "      <td>149948</td>\n",
       "      <td>Automatic</td>\n",
       "      <td>3000</td>\n",
       "      <td>570</td>\n",
       "      <td>21.4</td>\n",
       "      <td>6.2</td>\n",
       "    </tr>\n",
       "    <tr>\n",
       "      <th>8737</th>\n",
       "      <td>2019</td>\n",
       "      <td>140319</td>\n",
       "      <td>Semi-Auto</td>\n",
       "      <td>785</td>\n",
       "      <td>150</td>\n",
       "      <td>22.1</td>\n",
       "      <td>4.0</td>\n",
       "    </tr>\n",
       "    <tr>\n",
       "      <th>6386</th>\n",
       "      <td>2018</td>\n",
       "      <td>139995</td>\n",
       "      <td>Semi-Auto</td>\n",
       "      <td>13046</td>\n",
       "      <td>145</td>\n",
       "      <td>21.4</td>\n",
       "      <td>4.0</td>\n",
       "    </tr>\n",
       "    <tr>\n",
       "      <th>8</th>\n",
       "      <td>2019</td>\n",
       "      <td>139948</td>\n",
       "      <td>Automatic</td>\n",
       "      <td>12000</td>\n",
       "      <td>145</td>\n",
       "      <td>21.4</td>\n",
       "      <td>4.0</td>\n",
       "    </tr>\n",
       "    <tr>\n",
       "      <th>9133</th>\n",
       "      <td>2019</td>\n",
       "      <td>139559</td>\n",
       "      <td>Semi-Auto</td>\n",
       "      <td>1000</td>\n",
       "      <td>145</td>\n",
       "      <td>22.1</td>\n",
       "      <td>4.0</td>\n",
       "    </tr>\n",
       "    <tr>\n",
       "      <th>8821</th>\n",
       "      <td>2020</td>\n",
       "      <td>138439</td>\n",
       "      <td>Semi-Auto</td>\n",
       "      <td>1000</td>\n",
       "      <td>145</td>\n",
       "      <td>22.1</td>\n",
       "      <td>4.0</td>\n",
       "    </tr>\n",
       "    <tr>\n",
       "      <th>5902</th>\n",
       "      <td>2018</td>\n",
       "      <td>135771</td>\n",
       "      <td>Semi-Auto</td>\n",
       "      <td>19000</td>\n",
       "      <td>145</td>\n",
       "      <td>21.4</td>\n",
       "      <td>4.0</td>\n",
       "    </tr>\n",
       "    <tr>\n",
       "      <th>7864</th>\n",
       "      <td>2018</td>\n",
       "      <td>135124</td>\n",
       "      <td>Semi-Auto</td>\n",
       "      <td>18234</td>\n",
       "      <td>150</td>\n",
       "      <td>21.4</td>\n",
       "      <td>4.0</td>\n",
       "    </tr>\n",
       "    <tr>\n",
       "      <th>8673</th>\n",
       "      <td>2019</td>\n",
       "      <td>134219</td>\n",
       "      <td>Semi-Auto</td>\n",
       "      <td>1000</td>\n",
       "      <td>145</td>\n",
       "      <td>24.8</td>\n",
       "      <td>4.0</td>\n",
       "    </tr>\n",
       "    <tr>\n",
       "      <th>6210</th>\n",
       "      <td>2019</td>\n",
       "      <td>129990</td>\n",
       "      <td>Automatic</td>\n",
       "      <td>1000</td>\n",
       "      <td>145</td>\n",
       "      <td>24.8</td>\n",
       "      <td>4.0</td>\n",
       "    </tr>\n",
       "    <tr>\n",
       "      <th>4759</th>\n",
       "      <td>2019</td>\n",
       "      <td>126000</td>\n",
       "      <td>Automatic</td>\n",
       "      <td>250</td>\n",
       "      <td>145</td>\n",
       "      <td>24.6</td>\n",
       "      <td>4.0</td>\n",
       "    </tr>\n",
       "    <tr>\n",
       "      <th>2647</th>\n",
       "      <td>2019</td>\n",
       "      <td>125796</td>\n",
       "      <td>Automatic</td>\n",
       "      <td>637</td>\n",
       "      <td>145</td>\n",
       "      <td>24.8</td>\n",
       "      <td>4.0</td>\n",
       "    </tr>\n",
       "    <tr>\n",
       "      <th>6223</th>\n",
       "      <td>2019</td>\n",
       "      <td>124999</td>\n",
       "      <td>Automatic</td>\n",
       "      <td>1500</td>\n",
       "      <td>145</td>\n",
       "      <td>31.7</td>\n",
       "      <td>4.0</td>\n",
       "    </tr>\n",
       "    <tr>\n",
       "      <th>4094</th>\n",
       "      <td>2019</td>\n",
       "      <td>124366</td>\n",
       "      <td>Semi-Auto</td>\n",
       "      <td>880</td>\n",
       "      <td>145</td>\n",
       "      <td>24.8</td>\n",
       "      <td>4.0</td>\n",
       "    </tr>\n",
       "    <tr>\n",
       "      <th>2629</th>\n",
       "      <td>2019</td>\n",
       "      <td>123846</td>\n",
       "      <td>Semi-Auto</td>\n",
       "      <td>2951</td>\n",
       "      <td>145</td>\n",
       "      <td>22.1</td>\n",
       "      <td>4.0</td>\n",
       "    </tr>\n",
       "    <tr>\n",
       "      <th>7134</th>\n",
       "      <td>2019</td>\n",
       "      <td>115359</td>\n",
       "      <td>Semi-Auto</td>\n",
       "      <td>1000</td>\n",
       "      <td>145</td>\n",
       "      <td>30.1</td>\n",
       "      <td>4.0</td>\n",
       "    </tr>\n",
       "    <tr>\n",
       "      <th>9159</th>\n",
       "      <td>2019</td>\n",
       "      <td>114199</td>\n",
       "      <td>Semi-Auto</td>\n",
       "      <td>891</td>\n",
       "      <td>145</td>\n",
       "      <td>22.6</td>\n",
       "      <td>4.0</td>\n",
       "    </tr>\n",
       "    <tr>\n",
       "      <th>1980</th>\n",
       "      <td>2019</td>\n",
       "      <td>109995</td>\n",
       "      <td>Semi-Auto</td>\n",
       "      <td>4688</td>\n",
       "      <td>150</td>\n",
       "      <td>31.7</td>\n",
       "      <td>4.0</td>\n",
       "    </tr>\n",
       "  </tbody>\n",
       "</table>\n",
       "</div>"
      ],
      "text/plain": [
       "       year   price transmission  mileage  tax   mpg  engineSize\n",
       "6199   2020  159999    Semi-Auto     1350  145  21.4         4.0\n",
       "10044  2020  154998    Automatic     3000  150  21.4         4.0\n",
       "5      2011  149948    Automatic     3000  570  21.4         6.2\n",
       "8737   2019  140319    Semi-Auto      785  150  22.1         4.0\n",
       "6386   2018  139995    Semi-Auto    13046  145  21.4         4.0\n",
       "8      2019  139948    Automatic    12000  145  21.4         4.0\n",
       "9133   2019  139559    Semi-Auto     1000  145  22.1         4.0\n",
       "8821   2020  138439    Semi-Auto     1000  145  22.1         4.0\n",
       "5902   2018  135771    Semi-Auto    19000  145  21.4         4.0\n",
       "7864   2018  135124    Semi-Auto    18234  150  21.4         4.0\n",
       "8673   2019  134219    Semi-Auto     1000  145  24.8         4.0\n",
       "6210   2019  129990    Automatic     1000  145  24.8         4.0\n",
       "4759   2019  126000    Automatic      250  145  24.6         4.0\n",
       "2647   2019  125796    Automatic      637  145  24.8         4.0\n",
       "6223   2019  124999    Automatic     1500  145  31.7         4.0\n",
       "4094   2019  124366    Semi-Auto      880  145  24.8         4.0\n",
       "2629   2019  123846    Semi-Auto     2951  145  22.1         4.0\n",
       "7134   2019  115359    Semi-Auto     1000  145  30.1         4.0\n",
       "9159   2019  114199    Semi-Auto      891  145  22.6         4.0\n",
       "1980   2019  109995    Semi-Auto     4688  150  31.7         4.0"
      ]
     },
     "execution_count": 17,
     "metadata": {},
     "output_type": "execute_result"
    }
   ],
   "source": [
    "df.sort_values(\"price\", ascending = False).head(20)\n",
    "#ascending ->False=En yuksek fiyati en yukariya getirecek\n",
    "#ascending ->True=En dusuk fiyati en yukariya getirecek"
   ]
  },
  {
   "cell_type": "code",
   "execution_count": 18,
   "metadata": {},
   "outputs": [
    {
     "data": {
      "text/html": [
       "<div>\n",
       "<style scoped>\n",
       "    .dataframe tbody tr th:only-of-type {\n",
       "        vertical-align: middle;\n",
       "    }\n",
       "\n",
       "    .dataframe tbody tr th {\n",
       "        vertical-align: top;\n",
       "    }\n",
       "\n",
       "    .dataframe thead th {\n",
       "        text-align: right;\n",
       "    }\n",
       "</style>\n",
       "<table border=\"1\" class=\"dataframe\">\n",
       "  <thead>\n",
       "    <tr style=\"text-align: right;\">\n",
       "      <th></th>\n",
       "      <th>year</th>\n",
       "      <th>price</th>\n",
       "      <th>transmission</th>\n",
       "      <th>mileage</th>\n",
       "      <th>tax</th>\n",
       "      <th>mpg</th>\n",
       "      <th>engineSize</th>\n",
       "    </tr>\n",
       "  </thead>\n",
       "  <tbody>\n",
       "    <tr>\n",
       "      <th>11816</th>\n",
       "      <td>2003</td>\n",
       "      <td>650</td>\n",
       "      <td>Manual</td>\n",
       "      <td>109090</td>\n",
       "      <td>235</td>\n",
       "      <td>40.0</td>\n",
       "      <td>1.4</td>\n",
       "    </tr>\n",
       "    <tr>\n",
       "      <th>12008</th>\n",
       "      <td>2010</td>\n",
       "      <td>1350</td>\n",
       "      <td>Manual</td>\n",
       "      <td>116126</td>\n",
       "      <td>145</td>\n",
       "      <td>54.3</td>\n",
       "      <td>2.0</td>\n",
       "    </tr>\n",
       "    <tr>\n",
       "      <th>11765</th>\n",
       "      <td>2000</td>\n",
       "      <td>1490</td>\n",
       "      <td>Automatic</td>\n",
       "      <td>87000</td>\n",
       "      <td>265</td>\n",
       "      <td>27.2</td>\n",
       "      <td>3.2</td>\n",
       "    </tr>\n",
       "    <tr>\n",
       "      <th>11549</th>\n",
       "      <td>2002</td>\n",
       "      <td>1495</td>\n",
       "      <td>Automatic</td>\n",
       "      <td>13800</td>\n",
       "      <td>305</td>\n",
       "      <td>39.8</td>\n",
       "      <td>2.7</td>\n",
       "    </tr>\n",
       "    <tr>\n",
       "      <th>12594</th>\n",
       "      <td>2004</td>\n",
       "      <td>1495</td>\n",
       "      <td>Manual</td>\n",
       "      <td>119000</td>\n",
       "      <td>300</td>\n",
       "      <td>34.5</td>\n",
       "      <td>1.8</td>\n",
       "    </tr>\n",
       "    <tr>\n",
       "      <th>11174</th>\n",
       "      <td>2001</td>\n",
       "      <td>1695</td>\n",
       "      <td>Automatic</td>\n",
       "      <td>108800</td>\n",
       "      <td>325</td>\n",
       "      <td>31.7</td>\n",
       "      <td>3.2</td>\n",
       "    </tr>\n",
       "    <tr>\n",
       "      <th>12710</th>\n",
       "      <td>2006</td>\n",
       "      <td>1695</td>\n",
       "      <td>Automatic</td>\n",
       "      <td>153000</td>\n",
       "      <td>300</td>\n",
       "      <td>33.6</td>\n",
       "      <td>1.8</td>\n",
       "    </tr>\n",
       "    <tr>\n",
       "      <th>12766</th>\n",
       "      <td>2004</td>\n",
       "      <td>1780</td>\n",
       "      <td>Automatic</td>\n",
       "      <td>118000</td>\n",
       "      <td>265</td>\n",
       "      <td>41.5</td>\n",
       "      <td>2.2</td>\n",
       "    </tr>\n",
       "    <tr>\n",
       "      <th>12009</th>\n",
       "      <td>2007</td>\n",
       "      <td>1800</td>\n",
       "      <td>Automatic</td>\n",
       "      <td>84000</td>\n",
       "      <td>200</td>\n",
       "      <td>42.8</td>\n",
       "      <td>1.5</td>\n",
       "    </tr>\n",
       "    <tr>\n",
       "      <th>11764</th>\n",
       "      <td>1998</td>\n",
       "      <td>1990</td>\n",
       "      <td>Automatic</td>\n",
       "      <td>99300</td>\n",
       "      <td>265</td>\n",
       "      <td>32.1</td>\n",
       "      <td>2.3</td>\n",
       "    </tr>\n",
       "    <tr>\n",
       "      <th>11808</th>\n",
       "      <td>1998</td>\n",
       "      <td>1990</td>\n",
       "      <td>Automatic</td>\n",
       "      <td>113557</td>\n",
       "      <td>265</td>\n",
       "      <td>32.1</td>\n",
       "      <td>2.3</td>\n",
       "    </tr>\n",
       "    <tr>\n",
       "      <th>11383</th>\n",
       "      <td>2005</td>\n",
       "      <td>1995</td>\n",
       "      <td>Automatic</td>\n",
       "      <td>105000</td>\n",
       "      <td>260</td>\n",
       "      <td>43.5</td>\n",
       "      <td>2.1</td>\n",
       "    </tr>\n",
       "    <tr>\n",
       "      <th>11378</th>\n",
       "      <td>2004</td>\n",
       "      <td>1995</td>\n",
       "      <td>Semi-Auto</td>\n",
       "      <td>165000</td>\n",
       "      <td>330</td>\n",
       "      <td>20.0</td>\n",
       "      <td>3.7</td>\n",
       "    </tr>\n",
       "    <tr>\n",
       "      <th>11857</th>\n",
       "      <td>2002</td>\n",
       "      <td>2140</td>\n",
       "      <td>Automatic</td>\n",
       "      <td>52700</td>\n",
       "      <td>325</td>\n",
       "      <td>31.4</td>\n",
       "      <td>2.0</td>\n",
       "    </tr>\n",
       "    <tr>\n",
       "      <th>11906</th>\n",
       "      <td>2007</td>\n",
       "      <td>2478</td>\n",
       "      <td>Automatic</td>\n",
       "      <td>81000</td>\n",
       "      <td>160</td>\n",
       "      <td>49.6</td>\n",
       "      <td>2.0</td>\n",
       "    </tr>\n",
       "    <tr>\n",
       "      <th>11795</th>\n",
       "      <td>2005</td>\n",
       "      <td>2490</td>\n",
       "      <td>Automatic</td>\n",
       "      <td>101980</td>\n",
       "      <td>200</td>\n",
       "      <td>47.9</td>\n",
       "      <td>2.0</td>\n",
       "    </tr>\n",
       "    <tr>\n",
       "      <th>12765</th>\n",
       "      <td>2004</td>\n",
       "      <td>2495</td>\n",
       "      <td>Automatic</td>\n",
       "      <td>104000</td>\n",
       "      <td>325</td>\n",
       "      <td>31.7</td>\n",
       "      <td>1.8</td>\n",
       "    </tr>\n",
       "    <tr>\n",
       "      <th>11943</th>\n",
       "      <td>2005</td>\n",
       "      <td>2690</td>\n",
       "      <td>Automatic</td>\n",
       "      <td>109000</td>\n",
       "      <td>325</td>\n",
       "      <td>32.1</td>\n",
       "      <td>1.8</td>\n",
       "    </tr>\n",
       "    <tr>\n",
       "      <th>11263</th>\n",
       "      <td>2007</td>\n",
       "      <td>2795</td>\n",
       "      <td>Manual</td>\n",
       "      <td>79485</td>\n",
       "      <td>200</td>\n",
       "      <td>45.6</td>\n",
       "      <td>1.5</td>\n",
       "    </tr>\n",
       "    <tr>\n",
       "      <th>49</th>\n",
       "      <td>2006</td>\n",
       "      <td>2880</td>\n",
       "      <td>Automatic</td>\n",
       "      <td>66000</td>\n",
       "      <td>160</td>\n",
       "      <td>52.3</td>\n",
       "      <td>2.0</td>\n",
       "    </tr>\n",
       "  </tbody>\n",
       "</table>\n",
       "</div>"
      ],
      "text/plain": [
       "       year  price transmission  mileage  tax   mpg  engineSize\n",
       "11816  2003    650       Manual   109090  235  40.0         1.4\n",
       "12008  2010   1350       Manual   116126  145  54.3         2.0\n",
       "11765  2000   1490    Automatic    87000  265  27.2         3.2\n",
       "11549  2002   1495    Automatic    13800  305  39.8         2.7\n",
       "12594  2004   1495       Manual   119000  300  34.5         1.8\n",
       "11174  2001   1695    Automatic   108800  325  31.7         3.2\n",
       "12710  2006   1695    Automatic   153000  300  33.6         1.8\n",
       "12766  2004   1780    Automatic   118000  265  41.5         2.2\n",
       "12009  2007   1800    Automatic    84000  200  42.8         1.5\n",
       "11764  1998   1990    Automatic    99300  265  32.1         2.3\n",
       "11808  1998   1990    Automatic   113557  265  32.1         2.3\n",
       "11383  2005   1995    Automatic   105000  260  43.5         2.1\n",
       "11378  2004   1995    Semi-Auto   165000  330  20.0         3.7\n",
       "11857  2002   2140    Automatic    52700  325  31.4         2.0\n",
       "11906  2007   2478    Automatic    81000  160  49.6         2.0\n",
       "11795  2005   2490    Automatic   101980  200  47.9         2.0\n",
       "12765  2004   2495    Automatic   104000  325  31.7         1.8\n",
       "11943  2005   2690    Automatic   109000  325  32.1         1.8\n",
       "11263  2007   2795       Manual    79485  200  45.6         1.5\n",
       "49     2006   2880    Automatic    66000  160  52.3         2.0"
      ]
     },
     "execution_count": 18,
     "metadata": {},
     "output_type": "execute_result"
    }
   ],
   "source": [
    "df.sort_values(\"price\", ascending = True).head(20)"
   ]
  },
  {
   "cell_type": "code",
   "execution_count": 19,
   "metadata": {},
   "outputs": [
    {
     "data": {
      "text/plain": [
       "array(['Automatic', 'Manual', 'Semi-Auto', 'Other'], dtype=object)"
      ]
     },
     "execution_count": 19,
     "metadata": {},
     "output_type": "execute_result"
    }
   ],
   "source": [
    "df[\"transmission\"].unique()"
   ]
  },
  {
   "cell_type": "code",
   "execution_count": 20,
   "metadata": {},
   "outputs": [
    {
     "data": {
      "text/plain": [
       "13119"
      ]
     },
     "execution_count": 20,
     "metadata": {},
     "output_type": "execute_result"
    }
   ],
   "source": [
    "len(df)"
   ]
  },
  {
   "cell_type": "code",
   "execution_count": 21,
   "metadata": {},
   "outputs": [
    {
     "data": {
      "text/plain": [
       "131.19"
      ]
     },
     "execution_count": 21,
     "metadata": {},
     "output_type": "execute_result"
    }
   ],
   "source": [
    "len(df) * 0.01"
   ]
  },
  {
   "cell_type": "code",
   "execution_count": 22,
   "metadata": {},
   "outputs": [],
   "source": [
    "#Biz yuksek fiyatli arabalari dataset ten atmak istiyoruz\n",
    "#ya, dedik ki biz bu veri setinin %99 unu alsak sadece\n",
    "#gayet de guzel sınuclar alabiliriz. O halde geriye kalan \n",
    "#%1 lik yani 131 tane yuksek fiyatli veriyi atalim\n",
    "#Boylece daha dogru bir seyler bulabilirz dedik"
   ]
  },
  {
   "cell_type": "markdown",
   "metadata": {},
   "source": [
    "# Veri Temizligi"
   ]
  },
  {
   "cell_type": "code",
   "execution_count": 23,
   "metadata": {},
   "outputs": [],
   "source": [
    "temizDf = df.sort_values(\"price\", ascending = False).iloc[131:]"
   ]
  },
  {
   "cell_type": "code",
   "execution_count": 24,
   "metadata": {},
   "outputs": [
    {
     "data": {
      "text/html": [
       "<div>\n",
       "<style scoped>\n",
       "    .dataframe tbody tr th:only-of-type {\n",
       "        vertical-align: middle;\n",
       "    }\n",
       "\n",
       "    .dataframe tbody tr th {\n",
       "        vertical-align: top;\n",
       "    }\n",
       "\n",
       "    .dataframe thead th {\n",
       "        text-align: right;\n",
       "    }\n",
       "</style>\n",
       "<table border=\"1\" class=\"dataframe\">\n",
       "  <thead>\n",
       "    <tr style=\"text-align: right;\">\n",
       "      <th></th>\n",
       "      <th>year</th>\n",
       "      <th>price</th>\n",
       "      <th>mileage</th>\n",
       "      <th>tax</th>\n",
       "      <th>mpg</th>\n",
       "      <th>engineSize</th>\n",
       "    </tr>\n",
       "  </thead>\n",
       "  <tbody>\n",
       "    <tr>\n",
       "      <th>count</th>\n",
       "      <td>12988.000000</td>\n",
       "      <td>12988.000000</td>\n",
       "      <td>12988.000000</td>\n",
       "      <td>12988.000000</td>\n",
       "      <td>12988.000000</td>\n",
       "      <td>12988.000000</td>\n",
       "    </tr>\n",
       "    <tr>\n",
       "      <th>mean</th>\n",
       "      <td>2017.281876</td>\n",
       "      <td>24074.926933</td>\n",
       "      <td>22132.741146</td>\n",
       "      <td>129.689714</td>\n",
       "      <td>55.437142</td>\n",
       "      <td>2.050901</td>\n",
       "    </tr>\n",
       "    <tr>\n",
       "      <th>std</th>\n",
       "      <td>2.228515</td>\n",
       "      <td>9866.224575</td>\n",
       "      <td>21196.776401</td>\n",
       "      <td>65.183076</td>\n",
       "      <td>15.025999</td>\n",
       "      <td>0.532596</td>\n",
       "    </tr>\n",
       "    <tr>\n",
       "      <th>min</th>\n",
       "      <td>1970.000000</td>\n",
       "      <td>650.000000</td>\n",
       "      <td>1.000000</td>\n",
       "      <td>0.000000</td>\n",
       "      <td>1.100000</td>\n",
       "      <td>0.000000</td>\n",
       "    </tr>\n",
       "    <tr>\n",
       "      <th>25%</th>\n",
       "      <td>2016.000000</td>\n",
       "      <td>17357.500000</td>\n",
       "      <td>6322.000000</td>\n",
       "      <td>125.000000</td>\n",
       "      <td>45.600000</td>\n",
       "      <td>1.675000</td>\n",
       "    </tr>\n",
       "    <tr>\n",
       "      <th>50%</th>\n",
       "      <td>2018.000000</td>\n",
       "      <td>22299.000000</td>\n",
       "      <td>15369.500000</td>\n",
       "      <td>145.000000</td>\n",
       "      <td>56.500000</td>\n",
       "      <td>2.000000</td>\n",
       "    </tr>\n",
       "    <tr>\n",
       "      <th>75%</th>\n",
       "      <td>2019.000000</td>\n",
       "      <td>28706.000000</td>\n",
       "      <td>31982.250000</td>\n",
       "      <td>145.000000</td>\n",
       "      <td>64.200000</td>\n",
       "      <td>2.100000</td>\n",
       "    </tr>\n",
       "    <tr>\n",
       "      <th>max</th>\n",
       "      <td>2020.000000</td>\n",
       "      <td>65990.000000</td>\n",
       "      <td>259000.000000</td>\n",
       "      <td>580.000000</td>\n",
       "      <td>217.300000</td>\n",
       "      <td>6.200000</td>\n",
       "    </tr>\n",
       "  </tbody>\n",
       "</table>\n",
       "</div>"
      ],
      "text/plain": [
       "               year         price        mileage           tax           mpg  \\\n",
       "count  12988.000000  12988.000000   12988.000000  12988.000000  12988.000000   \n",
       "mean    2017.281876  24074.926933   22132.741146    129.689714     55.437142   \n",
       "std        2.228515   9866.224575   21196.776401     65.183076     15.025999   \n",
       "min     1970.000000    650.000000       1.000000      0.000000      1.100000   \n",
       "25%     2016.000000  17357.500000    6322.000000    125.000000     45.600000   \n",
       "50%     2018.000000  22299.000000   15369.500000    145.000000     56.500000   \n",
       "75%     2019.000000  28706.000000   31982.250000    145.000000     64.200000   \n",
       "max     2020.000000  65990.000000  259000.000000    580.000000    217.300000   \n",
       "\n",
       "         engineSize  \n",
       "count  12988.000000  \n",
       "mean       2.050901  \n",
       "std        0.532596  \n",
       "min        0.000000  \n",
       "25%        1.675000  \n",
       "50%        2.000000  \n",
       "75%        2.100000  \n",
       "max        6.200000  "
      ]
     },
     "execution_count": 24,
     "metadata": {},
     "output_type": "execute_result"
    }
   ],
   "source": [
    "temizDf.describe()"
   ]
  },
  {
   "cell_type": "code",
   "execution_count": 25,
   "metadata": {},
   "outputs": [],
   "source": [
    "#fiyat ortalamasi 25 binlerden 24 binlere dusmus. Bu guzel\n",
    "#Veri sildik ama ortalama cok etkilenmedi. Hem de max\n",
    "#fiyat silindi daha guzel oldu"
   ]
  },
  {
   "cell_type": "code",
   "execution_count": 26,
   "metadata": {},
   "outputs": [
    {
     "data": {
      "text/plain": [
       "<matplotlib.axes._subplots.AxesSubplot at 0x250cd4f4688>"
      ]
     },
     "execution_count": 26,
     "metadata": {},
     "output_type": "execute_result"
    },
    {
     "data": {
      "image/png": "[encoded data removed]",
      "text/plain": [
       "<Figure size 504x360 with 1 Axes>"
      ]
     },
     "metadata": {
      "needs_background": "light"
     },
     "output_type": "display_data"
    }
   ],
   "source": [
    "plt.figure(figsize = (7,5))\n",
    "sbn.distplot(temizDf[\"price\"])"
   ]
  },
  {
   "cell_type": "code",
   "execution_count": 27,
   "metadata": {},
   "outputs": [],
   "source": [
    "#Bu yeterli. Normal dagilim olsun diye de cok kirparsak\n",
    "#Veri seti bozulur"
   ]
  },
  {
   "cell_type": "code",
   "execution_count": 28,
   "metadata": {},
   "outputs": [
    {
     "data": {
      "text/plain": [
       "year\n",
       "1970    24999.000000\n",
       "1997     9995.000000\n",
       "1998     8605.000000\n",
       "1999     5995.000000\n",
       "2000     5743.333333\n",
       "2001     4957.900000\n",
       "2002     5820.444444\n",
       "2003     4878.000000\n",
       "2004     4727.615385\n",
       "2005     4426.111111\n",
       "2006     4036.875000\n",
       "2007     5136.045455\n",
       "2008     6967.437500\n",
       "2009     6166.764706\n",
       "2010     8308.473684\n",
       "2011    12624.894737\n",
       "2012    10845.140351\n",
       "2013    11939.842466\n",
       "2014    14042.936864\n",
       "2015    16731.780020\n",
       "2016    19307.892948\n",
       "2017    21514.307854\n",
       "2018    25720.162918\n",
       "2019    31290.020865\n",
       "2020    35433.282337\n",
       "Name: price, dtype: float64"
      ]
     },
     "execution_count": 28,
     "metadata": {},
     "output_type": "execute_result"
    }
   ],
   "source": [
    "df.groupby(\"year\").mean()[\"price\"]"
   ]
  },
  {
   "cell_type": "code",
   "execution_count": 29,
   "metadata": {},
   "outputs": [],
   "source": [
    "#1970 te uretilen bir araba 25 bin pound oldugu cikti\n",
    "#Bu da gereksiz bir durum oldugunu gosterdi"
   ]
  },
  {
   "cell_type": "code",
   "execution_count": 30,
   "metadata": {},
   "outputs": [
    {
     "data": {
      "text/plain": [
       "year\n",
       "1970    24999.000000\n",
       "1997     9995.000000\n",
       "1998     8605.000000\n",
       "1999     5995.000000\n",
       "2000     5743.333333\n",
       "2001     4957.900000\n",
       "2002     5820.444444\n",
       "2003     4878.000000\n",
       "2004     4727.615385\n",
       "2005     4426.111111\n",
       "2006     4036.875000\n",
       "2007     5136.045455\n",
       "2008     6967.437500\n",
       "2009     6166.764706\n",
       "2010     8308.473684\n",
       "2011     8913.459459\n",
       "2012    10845.140351\n",
       "2013    11939.842466\n",
       "2014    14042.936864\n",
       "2015    16647.822222\n",
       "2016    19223.558943\n",
       "2017    21356.280421\n",
       "2018    24800.844506\n",
       "2019    30289.524832\n",
       "2020    34234.794872\n",
       "Name: price, dtype: float64"
      ]
     },
     "execution_count": 30,
     "metadata": {},
     "output_type": "execute_result"
    }
   ],
   "source": [
    "temizDf.groupby(\"year\").mean()[\"price\"]"
   ]
  },
  {
   "cell_type": "code",
   "execution_count": 31,
   "metadata": {},
   "outputs": [
    {
     "data": {
      "text/plain": [
       "year\n",
       "1997     9995.000000\n",
       "1998     8605.000000\n",
       "1999     5995.000000\n",
       "2000     5743.333333\n",
       "2001     4957.900000\n",
       "2002     5820.444444\n",
       "2003     4878.000000\n",
       "2004     4727.615385\n",
       "2005     4426.111111\n",
       "2006     4036.875000\n",
       "2007     5136.045455\n",
       "2008     6967.437500\n",
       "2009     6166.764706\n",
       "2010     8308.473684\n",
       "2011     8913.459459\n",
       "2012    10845.140351\n",
       "2013    11939.842466\n",
       "2014    14042.936864\n",
       "2015    16647.822222\n",
       "2016    19223.558943\n",
       "2017    21356.280421\n",
       "2018    24800.844506\n",
       "2019    30289.524832\n",
       "2020    34234.794872\n",
       "Name: price, dtype: float64"
      ]
     },
     "execution_count": 31,
     "metadata": {},
     "output_type": "execute_result"
    }
   ],
   "source": [
    "temizDf[temizDf.year != 1970].groupby(\"year\").mean()[\"price\"]"
   ]
  },
  {
   "cell_type": "code",
   "execution_count": 32,
   "metadata": {},
   "outputs": [],
   "source": [
    "#normalde temizDf[\"year\"] yazardik ama burda temizDf.year\n",
    "#yazdik. Cunku != noktali olani destekiyo\n",
    "#Bu biraz da SQL konusuna giriyomus"
   ]
  },
  {
   "cell_type": "code",
   "execution_count": 33,
   "metadata": {},
   "outputs": [],
   "source": [
    "df = temizDf"
   ]
  },
  {
   "cell_type": "code",
   "execution_count": 34,
   "metadata": {},
   "outputs": [
    {
     "data": {
      "text/html": [
       "<div>\n",
       "<style scoped>\n",
       "    .dataframe tbody tr th:only-of-type {\n",
       "        vertical-align: middle;\n",
       "    }\n",
       "\n",
       "    .dataframe tbody tr th {\n",
       "        vertical-align: top;\n",
       "    }\n",
       "\n",
       "    .dataframe thead th {\n",
       "        text-align: right;\n",
       "    }\n",
       "</style>\n",
       "<table border=\"1\" class=\"dataframe\">\n",
       "  <thead>\n",
       "    <tr style=\"text-align: right;\">\n",
       "      <th></th>\n",
       "      <th>year</th>\n",
       "      <th>price</th>\n",
       "      <th>mileage</th>\n",
       "      <th>tax</th>\n",
       "      <th>mpg</th>\n",
       "      <th>engineSize</th>\n",
       "    </tr>\n",
       "  </thead>\n",
       "  <tbody>\n",
       "    <tr>\n",
       "      <th>count</th>\n",
       "      <td>12988.000000</td>\n",
       "      <td>12988.000000</td>\n",
       "      <td>12988.000000</td>\n",
       "      <td>12988.000000</td>\n",
       "      <td>12988.000000</td>\n",
       "      <td>12988.000000</td>\n",
       "    </tr>\n",
       "    <tr>\n",
       "      <th>mean</th>\n",
       "      <td>2017.281876</td>\n",
       "      <td>24074.926933</td>\n",
       "      <td>22132.741146</td>\n",
       "      <td>129.689714</td>\n",
       "      <td>55.437142</td>\n",
       "      <td>2.050901</td>\n",
       "    </tr>\n",
       "    <tr>\n",
       "      <th>std</th>\n",
       "      <td>2.228515</td>\n",
       "      <td>9866.224575</td>\n",
       "      <td>21196.776401</td>\n",
       "      <td>65.183076</td>\n",
       "      <td>15.025999</td>\n",
       "      <td>0.532596</td>\n",
       "    </tr>\n",
       "    <tr>\n",
       "      <th>min</th>\n",
       "      <td>1970.000000</td>\n",
       "      <td>650.000000</td>\n",
       "      <td>1.000000</td>\n",
       "      <td>0.000000</td>\n",
       "      <td>1.100000</td>\n",
       "      <td>0.000000</td>\n",
       "    </tr>\n",
       "    <tr>\n",
       "      <th>25%</th>\n",
       "      <td>2016.000000</td>\n",
       "      <td>17357.500000</td>\n",
       "      <td>6322.000000</td>\n",
       "      <td>125.000000</td>\n",
       "      <td>45.600000</td>\n",
       "      <td>1.675000</td>\n",
       "    </tr>\n",
       "    <tr>\n",
       "      <th>50%</th>\n",
       "      <td>2018.000000</td>\n",
       "      <td>22299.000000</td>\n",
       "      <td>15369.500000</td>\n",
       "      <td>145.000000</td>\n",
       "      <td>56.500000</td>\n",
       "      <td>2.000000</td>\n",
       "    </tr>\n",
       "    <tr>\n",
       "      <th>75%</th>\n",
       "      <td>2019.000000</td>\n",
       "      <td>28706.000000</td>\n",
       "      <td>31982.250000</td>\n",
       "      <td>145.000000</td>\n",
       "      <td>64.200000</td>\n",
       "      <td>2.100000</td>\n",
       "    </tr>\n",
       "    <tr>\n",
       "      <th>max</th>\n",
       "      <td>2020.000000</td>\n",
       "      <td>65990.000000</td>\n",
       "      <td>259000.000000</td>\n",
       "      <td>580.000000</td>\n",
       "      <td>217.300000</td>\n",
       "      <td>6.200000</td>\n",
       "    </tr>\n",
       "  </tbody>\n",
       "</table>\n",
       "</div>"
      ],
      "text/plain": [
       "               year         price        mileage           tax           mpg  \\\n",
       "count  12988.000000  12988.000000   12988.000000  12988.000000  12988.000000   \n",
       "mean    2017.281876  24074.926933   22132.741146    129.689714     55.437142   \n",
       "std        2.228515   9866.224575   21196.776401     65.183076     15.025999   \n",
       "min     1970.000000    650.000000       1.000000      0.000000      1.100000   \n",
       "25%     2016.000000  17357.500000    6322.000000    125.000000     45.600000   \n",
       "50%     2018.000000  22299.000000   15369.500000    145.000000     56.500000   \n",
       "75%     2019.000000  28706.000000   31982.250000    145.000000     64.200000   \n",
       "max     2020.000000  65990.000000  259000.000000    580.000000    217.300000   \n",
       "\n",
       "         engineSize  \n",
       "count  12988.000000  \n",
       "mean       2.050901  \n",
       "std        0.532596  \n",
       "min        0.000000  \n",
       "25%        1.675000  \n",
       "50%        2.000000  \n",
       "75%        2.100000  \n",
       "max        6.200000  "
      ]
     },
     "execution_count": 34,
     "metadata": {},
     "output_type": "execute_result"
    }
   ],
   "source": [
    "df.describe()"
   ]
  },
  {
   "cell_type": "code",
   "execution_count": 35,
   "metadata": {},
   "outputs": [],
   "source": [
    "df = df[df.year != 1970]"
   ]
  },
  {
   "cell_type": "code",
   "execution_count": 36,
   "metadata": {},
   "outputs": [
    {
     "data": {
      "text/plain": [
       "year\n",
       "1997     9995.000000\n",
       "1998     8605.000000\n",
       "1999     5995.000000\n",
       "2000     5743.333333\n",
       "2001     4957.900000\n",
       "2002     5820.444444\n",
       "2003     4878.000000\n",
       "2004     4727.615385\n",
       "2005     4426.111111\n",
       "2006     4036.875000\n",
       "2007     5136.045455\n",
       "2008     6967.437500\n",
       "2009     6166.764706\n",
       "2010     8308.473684\n",
       "2011     8913.459459\n",
       "2012    10845.140351\n",
       "2013    11939.842466\n",
       "2014    14042.936864\n",
       "2015    16647.822222\n",
       "2016    19223.558943\n",
       "2017    21356.280421\n",
       "2018    24800.844506\n",
       "2019    30289.524832\n",
       "2020    34234.794872\n",
       "Name: price, dtype: float64"
      ]
     },
     "execution_count": 36,
     "metadata": {},
     "output_type": "execute_result"
    }
   ],
   "source": [
    "df.groupby(\"year\").mean()[\"price\"]"
   ]
  },
  {
   "cell_type": "code",
   "execution_count": 37,
   "metadata": {},
   "outputs": [
    {
     "data": {
      "text/html": [
       "<div>\n",
       "<style scoped>\n",
       "    .dataframe tbody tr th:only-of-type {\n",
       "        vertical-align: middle;\n",
       "    }\n",
       "\n",
       "    .dataframe tbody tr th {\n",
       "        vertical-align: top;\n",
       "    }\n",
       "\n",
       "    .dataframe thead th {\n",
       "        text-align: right;\n",
       "    }\n",
       "</style>\n",
       "<table border=\"1\" class=\"dataframe\">\n",
       "  <thead>\n",
       "    <tr style=\"text-align: right;\">\n",
       "      <th></th>\n",
       "      <th>year</th>\n",
       "      <th>price</th>\n",
       "      <th>transmission</th>\n",
       "      <th>mileage</th>\n",
       "      <th>tax</th>\n",
       "      <th>mpg</th>\n",
       "      <th>engineSize</th>\n",
       "    </tr>\n",
       "  </thead>\n",
       "  <tbody>\n",
       "    <tr>\n",
       "      <th>6177</th>\n",
       "      <td>2019</td>\n",
       "      <td>65990</td>\n",
       "      <td>Semi-Auto</td>\n",
       "      <td>5076</td>\n",
       "      <td>150</td>\n",
       "      <td>30.4</td>\n",
       "      <td>3.0</td>\n",
       "    </tr>\n",
       "    <tr>\n",
       "      <th>5779</th>\n",
       "      <td>2020</td>\n",
       "      <td>65990</td>\n",
       "      <td>Semi-Auto</td>\n",
       "      <td>999</td>\n",
       "      <td>145</td>\n",
       "      <td>28.0</td>\n",
       "      <td>4.0</td>\n",
       "    </tr>\n",
       "    <tr>\n",
       "      <th>3191</th>\n",
       "      <td>2020</td>\n",
       "      <td>65980</td>\n",
       "      <td>Semi-Auto</td>\n",
       "      <td>3999</td>\n",
       "      <td>145</td>\n",
       "      <td>28.0</td>\n",
       "      <td>4.0</td>\n",
       "    </tr>\n",
       "    <tr>\n",
       "      <th>4727</th>\n",
       "      <td>2019</td>\n",
       "      <td>65000</td>\n",
       "      <td>Semi-Auto</td>\n",
       "      <td>3398</td>\n",
       "      <td>145</td>\n",
       "      <td>27.2</td>\n",
       "      <td>4.0</td>\n",
       "    </tr>\n",
       "    <tr>\n",
       "      <th>8814</th>\n",
       "      <td>2019</td>\n",
       "      <td>64999</td>\n",
       "      <td>Semi-Auto</td>\n",
       "      <td>119</td>\n",
       "      <td>145</td>\n",
       "      <td>40.9</td>\n",
       "      <td>3.0</td>\n",
       "    </tr>\n",
       "  </tbody>\n",
       "</table>\n",
       "</div>"
      ],
      "text/plain": [
       "      year  price transmission  mileage  tax   mpg  engineSize\n",
       "6177  2019  65990    Semi-Auto     5076  150  30.4         3.0\n",
       "5779  2020  65990    Semi-Auto      999  145  28.0         4.0\n",
       "3191  2020  65980    Semi-Auto     3999  145  28.0         4.0\n",
       "4727  2019  65000    Semi-Auto     3398  145  27.2         4.0\n",
       "8814  2019  64999    Semi-Auto      119  145  40.9         3.0"
      ]
     },
     "execution_count": 37,
     "metadata": {},
     "output_type": "execute_result"
    }
   ],
   "source": [
    "df.head()"
   ]
  },
  {
   "cell_type": "code",
   "execution_count": 38,
   "metadata": {},
   "outputs": [],
   "source": [
    "#transmission numerik degil. Cikartalim dedik"
   ]
  },
  {
   "cell_type": "code",
   "execution_count": 39,
   "metadata": {},
   "outputs": [],
   "source": [
    "df = df.drop(\"transmission\", axis = 1)"
   ]
  },
  {
   "cell_type": "code",
   "execution_count": 40,
   "metadata": {},
   "outputs": [
    {
     "data": {
      "text/html": [
       "<div>\n",
       "<style scoped>\n",
       "    .dataframe tbody tr th:only-of-type {\n",
       "        vertical-align: middle;\n",
       "    }\n",
       "\n",
       "    .dataframe tbody tr th {\n",
       "        vertical-align: top;\n",
       "    }\n",
       "\n",
       "    .dataframe thead th {\n",
       "        text-align: right;\n",
       "    }\n",
       "</style>\n",
       "<table border=\"1\" class=\"dataframe\">\n",
       "  <thead>\n",
       "    <tr style=\"text-align: right;\">\n",
       "      <th></th>\n",
       "      <th>year</th>\n",
       "      <th>price</th>\n",
       "      <th>mileage</th>\n",
       "      <th>tax</th>\n",
       "      <th>mpg</th>\n",
       "      <th>engineSize</th>\n",
       "    </tr>\n",
       "  </thead>\n",
       "  <tbody>\n",
       "    <tr>\n",
       "      <th>6177</th>\n",
       "      <td>2019</td>\n",
       "      <td>65990</td>\n",
       "      <td>5076</td>\n",
       "      <td>150</td>\n",
       "      <td>30.4</td>\n",
       "      <td>3.0</td>\n",
       "    </tr>\n",
       "    <tr>\n",
       "      <th>5779</th>\n",
       "      <td>2020</td>\n",
       "      <td>65990</td>\n",
       "      <td>999</td>\n",
       "      <td>145</td>\n",
       "      <td>28.0</td>\n",
       "      <td>4.0</td>\n",
       "    </tr>\n",
       "    <tr>\n",
       "      <th>3191</th>\n",
       "      <td>2020</td>\n",
       "      <td>65980</td>\n",
       "      <td>3999</td>\n",
       "      <td>145</td>\n",
       "      <td>28.0</td>\n",
       "      <td>4.0</td>\n",
       "    </tr>\n",
       "    <tr>\n",
       "      <th>4727</th>\n",
       "      <td>2019</td>\n",
       "      <td>65000</td>\n",
       "      <td>3398</td>\n",
       "      <td>145</td>\n",
       "      <td>27.2</td>\n",
       "      <td>4.0</td>\n",
       "    </tr>\n",
       "    <tr>\n",
       "      <th>8814</th>\n",
       "      <td>2019</td>\n",
       "      <td>64999</td>\n",
       "      <td>119</td>\n",
       "      <td>145</td>\n",
       "      <td>40.9</td>\n",
       "      <td>3.0</td>\n",
       "    </tr>\n",
       "  </tbody>\n",
       "</table>\n",
       "</div>"
      ],
      "text/plain": [
       "      year  price  mileage  tax   mpg  engineSize\n",
       "6177  2019  65990     5076  150  30.4         3.0\n",
       "5779  2020  65990      999  145  28.0         4.0\n",
       "3191  2020  65980     3999  145  28.0         4.0\n",
       "4727  2019  65000     3398  145  27.2         4.0\n",
       "8814  2019  64999      119  145  40.9         3.0"
      ]
     },
     "execution_count": 40,
     "metadata": {},
     "output_type": "execute_result"
    }
   ],
   "source": [
    "df.head()"
   ]
  },
  {
   "cell_type": "code",
   "execution_count": 42,
   "metadata": {},
   "outputs": [],
   "source": [
    "y = df[\"price\"].values #numpy dizisine cevirdi\n",
    "x = df.drop(\"price\", axis = 1).values"
   ]
  },
  {
   "cell_type": "code",
   "execution_count": 43,
   "metadata": {},
   "outputs": [
    {
     "data": {
      "text/plain": [
       "array([65990, 65990, 65980, ...,  1490,  1350,   650], dtype=int64)"
      ]
     },
     "execution_count": 43,
     "metadata": {},
     "output_type": "execute_result"
    }
   ],
   "source": [
    "y"
   ]
  },
  {
   "cell_type": "code",
   "execution_count": 44,
   "metadata": {},
   "outputs": [
    {
     "data": {
      "text/plain": [
       "array([[2.01900e+03, 5.07600e+03, 1.50000e+02, 3.04000e+01, 3.00000e+00],\n",
       "       [2.02000e+03, 9.99000e+02, 1.45000e+02, 2.80000e+01, 4.00000e+00],\n",
       "       [2.02000e+03, 3.99900e+03, 1.45000e+02, 2.80000e+01, 4.00000e+00],\n",
       "       ...,\n",
       "       [2.00000e+03, 8.70000e+04, 2.65000e+02, 2.72000e+01, 3.20000e+00],\n",
       "       [2.01000e+03, 1.16126e+05, 1.45000e+02, 5.43000e+01, 2.00000e+00],\n",
       "       [2.00300e+03, 1.09090e+05, 2.35000e+02, 4.00000e+01, 1.40000e+00]])"
      ]
     },
     "execution_count": 44,
     "metadata": {},
     "output_type": "execute_result"
    }
   ],
   "source": [
    "x"
   ]
  },
  {
   "cell_type": "code",
   "execution_count": 45,
   "metadata": {},
   "outputs": [],
   "source": [
    "from sklearn.model_selection import train_test_split"
   ]
  },
  {
   "cell_type": "code",
   "execution_count": 47,
   "metadata": {},
   "outputs": [],
   "source": [
    "x_train, x_test, y_train, y_test = train_test_split(x,y,test_size=0.3,random_state = 10)"
   ]
  },
  {
   "cell_type": "code",
   "execution_count": 48,
   "metadata": {},
   "outputs": [
    {
     "data": {
      "text/plain": [
       "9090"
      ]
     },
     "execution_count": 48,
     "metadata": {},
     "output_type": "execute_result"
    }
   ],
   "source": [
    "len(x_train)"
   ]
  },
  {
   "cell_type": "code",
   "execution_count": 49,
   "metadata": {},
   "outputs": [
    {
     "data": {
      "text/plain": [
       "3897"
      ]
     },
     "execution_count": 49,
     "metadata": {},
     "output_type": "execute_result"
    }
   ],
   "source": [
    "len(x_test)"
   ]
  },
  {
   "cell_type": "code",
   "execution_count": 50,
   "metadata": {},
   "outputs": [],
   "source": [
    "from sklearn.preprocessing import MinMaxScaler"
   ]
  },
  {
   "cell_type": "code",
   "execution_count": 51,
   "metadata": {},
   "outputs": [],
   "source": [
    "scaler = MinMaxScaler()"
   ]
  },
  {
   "cell_type": "code",
   "execution_count": 52,
   "metadata": {},
   "outputs": [],
   "source": [
    "x_train = scaler.fit_transform(x_train)"
   ]
  },
  {
   "cell_type": "code",
   "execution_count": 54,
   "metadata": {},
   "outputs": [],
   "source": [
    "x_test = scaler.transform(x_test)"
   ]
  },
  {
   "cell_type": "code",
   "execution_count": 56,
   "metadata": {},
   "outputs": [],
   "source": [
    "from tensorflow.keras.models import Sequential\n",
    "from tensorflow.keras.layers import Dense"
   ]
  },
  {
   "cell_type": "code",
   "execution_count": 57,
   "metadata": {},
   "outputs": [],
   "source": [
    "#sequential ile modelimizi ve dense ile katmanlarimizi\n",
    "#olusturuyorduk"
   ]
  },
  {
   "cell_type": "code",
   "execution_count": 58,
   "metadata": {},
   "outputs": [
    {
     "data": {
      "text/plain": [
       "(9090, 5)"
      ]
     },
     "execution_count": 58,
     "metadata": {},
     "output_type": "execute_result"
    }
   ],
   "source": [
    "x_train.shape"
   ]
  },
  {
   "cell_type": "code",
   "execution_count": 59,
   "metadata": {},
   "outputs": [],
   "source": [
    "#Veri setimizde 5 tane ozellik var. Bu yuzden katmanlarimizi\n",
    "#5 ten baslatabiliriz. ama tabii ki istersek 10 da koyabiliriz"
   ]
  },
  {
   "cell_type": "code",
   "execution_count": 60,
   "metadata": {},
   "outputs": [
    {
     "name": "stdout",
     "output_type": "stream",
     "text": [
      "WARNING:tensorflow:From C:\\Users\\Seyma\\anaconda3\\lib\\site-packages\\tensorflow\\python\\ops\\init_ops.py:1251: calling VarianceScaling.__init__ (from tensorflow.python.ops.init_ops) with dtype is deprecated and will be removed in a future version.\n",
      "Instructions for updating:\n",
      "Call initializer instance with the dtype argument instead of passing it to the constructor\n"
     ]
    }
   ],
   "source": [
    "model = Sequential()\n",
    "\n",
    "model.add(Dense(12,activation = \"relu\"))\n",
    "model.add(Dense(12,activation = \"relu\"))\n",
    "model.add(Dense(12,activation = \"relu\"))\n",
    "model.add(Dense(12,activation = \"relu\"))\n",
    "\n",
    "model.add(Dense(1))\n",
    "\n",
    "model.compile(optimizer = \"adam\", loss = \"mse\")"
   ]
  },
  {
   "cell_type": "code",
   "execution_count": 61,
   "metadata": {},
   "outputs": [
    {
     "name": "stdout",
     "output_type": "stream",
     "text": [
      "Train on 9090 samples, validate on 3897 samples\n",
      "Epoch 1/300\n",
      "9090/9090 [==============================] - 1s 96us/sample - loss: 672132051.4323 - val_loss: 688077275.9353\n",
      "Epoch 2/300\n",
      "9090/9090 [==============================] - 0s 13us/sample - loss: 672072818.6931 - val_loss: 687973009.1455\n",
      "Epoch 3/300\n",
      "9090/9090 [==============================] - 0s 12us/sample - loss: 671875087.4895 - val_loss: 687614631.7927\n",
      "Epoch 4/300\n",
      "9090/9090 [==============================] - 0s 12us/sample - loss: 671211519.0143 - val_loss: 686449039.4211\n",
      "Epoch 5/300\n",
      "9090/9090 [==============================] - 0s 11us/sample - loss: 669201511.8504 - val_loss: 683145246.0867\n",
      "Epoch 6/300\n",
      "9090/9090 [==============================] - 0s 13us/sample - loss: 664031108.0132 - val_loss: 675276636.6579\n",
      "Epoch 7/300\n",
      "9090/9090 [==============================] - 0s 11us/sample - loss: 652696181.3685 - val_loss: 659005814.8525\n",
      "Epoch 8/300\n",
      "9090/9090 [==============================] - 0s 12us/sample - loss: 630712706.2530 - val_loss: 629279089.3836\n",
      "Epoch 9/300\n",
      "9090/9090 [==============================] - 0s 17us/sample - loss: 592668979.9604 - val_loss: 580199402.7898\n",
      "Epoch 10/300\n",
      "9090/9090 [==============================] - 0s 11us/sample - loss: 533536060.7261 - val_loss: 507694054.4624\n",
      "Epoch 11/300\n",
      "9090/9090 [==============================] - 0s 12us/sample - loss: 450905262.4334 - val_loss: 412577334.0231\n",
      "Epoch 12/300\n",
      "9090/9090 [==============================] - 0s 12us/sample - loss: 350059198.2398 - val_loss: 304410832.1396\n",
      "Epoch 13/300\n",
      "9090/9090 [==============================] - 0s 18us/sample - loss: 246021843.7668 - val_loss: 204430784.9443\n",
      "Epoch 14/300\n",
      "9090/9090 [==============================] - 0s 12us/sample - loss: 161741468.7261 - val_loss: 134903730.1966\n",
      "Epoch 15/300\n",
      "9090/9090 [==============================] - 0s 22us/sample - loss: 112628719.2387 - val_loss: 102756751.2528\n",
      "Epoch 16/300\n",
      "9090/9090 [==============================] - 0s 13us/sample - loss: 94788692.3432 - val_loss: 93474821.2020\n",
      "Epoch 17/300\n",
      "9090/9090 [==============================] - 0s 15us/sample - loss: 90467707.7228 - val_loss: 91245322.7898\n",
      "Epoch 18/300\n",
      "9090/9090 [==============================] - 0s 18us/sample - loss: 89306971.2563 - val_loss: 90309071.0988\n",
      "Epoch 19/300\n",
      "9090/9090 [==============================] - 0s 11us/sample - loss: 88623672.1540 - val_loss: 89629568.8684\n",
      "Epoch 20/300\n",
      "9090/9090 [==============================] - 0s 13us/sample - loss: 88006699.5820 - val_loss: 89020953.1927\n",
      "Epoch 21/300\n",
      "9090/9090 [==============================] - 0s 22us/sample - loss: 87423118.9747 - val_loss: 88444032.6713\n",
      "Epoch 22/300\n",
      "9090/9090 [==============================] - 0s 19us/sample - loss: 86854190.3982 - val_loss: 87894175.7208\n",
      "Epoch 23/300\n",
      "9090/9090 [==============================] - 0s 13us/sample - loss: 86309278.3014 - val_loss: 87340145.8722\n",
      "Epoch 24/300\n",
      "9090/9090 [==============================] - 0s 16us/sample - loss: 85773638.7679 - val_loss: 86818946.5825\n",
      "Epoch 25/300\n",
      "9090/9090 [==============================] - 0s 15us/sample - loss: 85250527.2739 - val_loss: 86305017.3857\n",
      "Epoch 26/300\n",
      "9090/9090 [==============================] - 0s 11us/sample - loss: 84754491.5072 - val_loss: 85816623.6613\n",
      "Epoch 27/300\n",
      "9090/9090 [==============================] - 0s 13us/sample - loss: 84241941.9978 - val_loss: 85309018.6769\n",
      "Epoch 28/300\n",
      "9090/9090 [==============================] - 0s 12us/sample - loss: 83725078.4114 - val_loss: 84802853.9636\n",
      "Epoch 29/300\n",
      "9090/9090 [==============================] - 0s 10us/sample - loss: 83231036.9065 - val_loss: 84297495.0177\n",
      "Epoch 30/300\n",
      "9090/9090 [==============================] - 0s 12us/sample - loss: 82730468.0836 - val_loss: 83825809.5314\n",
      "Epoch 31/300\n",
      "9090/9090 [==============================] - 0s 12us/sample - loss: 82243165.3377 - val_loss: 83324873.9256\n",
      "Epoch 32/300\n",
      "9090/9090 [==============================] - 0s 20us/sample - loss: 81751287.3971 - val_loss: 82846274.2889\n",
      "Epoch 33/300\n",
      "9090/9090 [==============================] - 0s 17us/sample - loss: 81264119.1463 - val_loss: 82407467.6079\n",
      "Epoch 34/300\n",
      "9090/9090 [==============================] - 0s 18us/sample - loss: 80770602.4862 - val_loss: 81884143.0926\n",
      "Epoch 35/300\n",
      "9090/9090 [==============================] - 0s 17us/sample - loss: 80334689.5226 - val_loss: 81407127.3616\n",
      "Epoch 36/300\n",
      "9090/9090 [==============================] - 0s 12us/sample - loss: 79808301.1705 - val_loss: 80971769.2091\n",
      "Epoch 37/300\n",
      "9090/9090 [==============================] - 0s 14us/sample - loss: 79329651.9868 - val_loss: 80469645.8342\n",
      "Epoch 38/300\n",
      "9090/9090 [==============================] - 0s 21us/sample - loss: 78850225.6282 - val_loss: 79997233.6115\n",
      "Epoch 39/300\n",
      "9090/9090 [==============================] - 0s 11us/sample - loss: 78384392.3344 - val_loss: 79526653.6885\n",
      "Epoch 40/300\n",
      "9090/9090 [==============================] - 0s 22us/sample - loss: 77888595.0495 - val_loss: 79059103.6366\n",
      "Epoch 41/300\n",
      "9090/9090 [==============================] - 0s 14us/sample - loss: 77409352.9901 - val_loss: 78550828.8601\n",
      "Epoch 42/300\n",
      "9090/9090 [==============================] - 0s 16us/sample - loss: 76928261.2849 - val_loss: 78098556.4588\n",
      "Epoch 43/300\n",
      "9090/9090 [==============================] - 0s 12us/sample - loss: 76440062.3366 - val_loss: 77589988.7164\n",
      "Epoch 44/300\n",
      "9090/9090 [==============================] - 0s 18us/sample - loss: 75954821.1749 - val_loss: 77165994.8494\n",
      "Epoch 45/300\n",
      "9090/9090 [==============================] - 0s 12us/sample - loss: 75465511.4543 - val_loss: 76632749.8168\n",
      "Epoch 46/300\n",
      "9090/9090 [==============================] - 0s 10us/sample - loss: 74983004.5765 - val_loss: 76157732.0195\n",
      "Epoch 47/300\n",
      "9090/9090 [==============================] - 0s 17us/sample - loss: 74497680.4972 - val_loss: 75694798.7683\n",
      "Epoch 48/300\n",
      "9090/9090 [==============================] - 0s 12us/sample - loss: 74005971.7888 - val_loss: 75203463.4170\n",
      "Epoch 49/300\n",
      "9090/9090 [==============================] - 0s 11us/sample - loss: 73517468.4928 - val_loss: 74707506.9151\n",
      "Epoch 50/300\n",
      "9090/9090 [==============================] - 0s 16us/sample - loss: 73019371.3971 - val_loss: 74222128.5748\n",
      "Epoch 51/300\n",
      "9090/9090 [==============================] - 0s 12us/sample - loss: 72529923.5072 - val_loss: 73732289.1188\n",
      "Epoch 52/300\n",
      "9090/9090 [==============================] - 0s 12us/sample - loss: 72040658.3542 - val_loss: 73233075.1327\n",
      "Epoch 53/300\n",
      "9090/9090 [==============================] - 0s 13us/sample - loss: 71528395.2035 - val_loss: 72713443.5658\n",
      "Epoch 54/300\n",
      "9090/9090 [==============================] - 0s 17us/sample - loss: 71023339.6480 - val_loss: 72254056.0021\n",
      "Epoch 55/300\n",
      "9090/9090 [==============================] - 0s 14us/sample - loss: 70517590.2794 - val_loss: 71751164.2207\n",
      "Epoch 56/300\n",
      "9090/9090 [==============================] - 0s 13us/sample - loss: 69992495.3091 - val_loss: 71211687.9097\n",
      "Epoch 57/300\n",
      "9090/9090 [==============================] - 0s 14us/sample - loss: 69483263.4147 - val_loss: 70749808.4988\n",
      "Epoch 58/300\n",
      "9090/9090 [==============================] - 0s 17us/sample - loss: 68959726.1958 - val_loss: 70187496.5625\n",
      "Epoch 59/300\n",
      "9090/9090 [==============================] - 0s 13us/sample - loss: 68423274.2750 - val_loss: 69677169.8753\n",
      "Epoch 60/300\n",
      "9090/9090 [==============================] - 0s 12us/sample - loss: 67898838.3542 - val_loss: 69146417.9892\n",
      "Epoch 61/300\n",
      "9090/9090 [==============================] - 0s 13us/sample - loss: 67355053.1793 - val_loss: 68588504.9546\n",
      "Epoch 62/300\n",
      "9090/9090 [==============================] - 0s 12us/sample - loss: 66808450.2442 - val_loss: 68069303.4426\n",
      "Epoch 63/300\n",
      "9090/9090 [==============================] - 0s 12us/sample - loss: 66267010.5963 - val_loss: 67538897.6515\n",
      "Epoch 64/300\n",
      "9090/9090 [==============================] - 0s 11us/sample - loss: 65706782.0198 - val_loss: 66965770.7046\n",
      "Epoch 65/300\n",
      "9090/9090 [==============================] - 0s 14us/sample - loss: 65151903.6128 - val_loss: 66401218.0334\n",
      "Epoch 66/300\n",
      "9090/9090 [==============================] - 0s 11us/sample - loss: 64600391.4675 - val_loss: 65834853.3108\n",
      "Epoch 67/300\n",
      "9090/9090 [==============================] - 0s 13us/sample - loss: 64016521.5974 - val_loss: 65261214.1606\n",
      "Epoch 68/300\n"
     ]
    },
    {
     "name": "stdout",
     "output_type": "stream",
     "text": [
      "9090/9090 [==============================] - 0s 14us/sample - loss: 63422399.4807 - val_loss: 64699690.4090\n",
      "Epoch 69/300\n",
      "9090/9090 [==============================] - 0s 16us/sample - loss: 62829115.8020 - val_loss: 64080110.2756\n",
      "Epoch 70/300\n",
      "9090/9090 [==============================] - 0s 16us/sample - loss: 62227565.6634 - val_loss: 63503684.0441\n",
      "Epoch 71/300\n",
      "9090/9090 [==============================] - 0s 13us/sample - loss: 61605287.5820 - val_loss: 62891325.3682\n",
      "Epoch 72/300\n",
      "9090/9090 [==============================] - 0s 15us/sample - loss: 60982466.9439 - val_loss: 62247927.1706\n",
      "Epoch 73/300\n",
      "9090/9090 [==============================] - 0s 15us/sample - loss: 60346359.6832 - val_loss: 61623998.4655\n",
      "Epoch 74/300\n",
      "9090/9090 [==============================] - 0s 18us/sample - loss: 59717495.4653 - val_loss: 60969397.7070\n",
      "Epoch 75/300\n",
      "9090/9090 [==============================] - 0s 15us/sample - loss: 59082740.6777 - val_loss: 60334965.1876\n",
      "Epoch 76/300\n",
      "9090/9090 [==============================] - 0s 18us/sample - loss: 58413060.1012 - val_loss: 59658453.5047\n",
      "Epoch 77/300\n",
      "9090/9090 [==============================] - 0s 15us/sample - loss: 57730657.3773 - val_loss: 58977260.8858\n",
      "Epoch 78/300\n",
      "9090/9090 [==============================] - 0s 13us/sample - loss: 57032253.3069 - val_loss: 58302818.8576\n",
      "Epoch 79/300\n",
      "9090/9090 [==============================] - 0s 13us/sample - loss: 56348943.8592 - val_loss: 57578186.4142\n",
      "Epoch 80/300\n",
      "9090/9090 [==============================] - 0s 14us/sample - loss: 55641660.8273 - val_loss: 56883308.2597\n",
      "Epoch 81/300\n",
      "9090/9090 [==============================] - 0s 15us/sample - loss: 54909463.0671 - val_loss: 56144764.4137\n",
      "Epoch 82/300\n",
      "9090/9090 [==============================] - 0s 16us/sample - loss: 54175616.2816 - val_loss: 55398050.9571\n",
      "Epoch 83/300\n",
      "9090/9090 [==============================] - 0s 14us/sample - loss: 53412927.7052 - val_loss: 54632710.9202\n",
      "Epoch 84/300\n",
      "9090/9090 [==============================] - 0s 20us/sample - loss: 52658940.7481 - val_loss: 53859450.5343\n",
      "Epoch 85/300\n",
      "9090/9090 [==============================] - 0s 14us/sample - loss: 51866000.8141 - val_loss: 53060882.7252\n",
      "Epoch 86/300\n",
      "9090/9090 [==============================] - 0s 20us/sample - loss: 51050683.9296 - val_loss: 52267363.4385\n",
      "Epoch 87/300\n",
      "9090/9090 [==============================] - 0s 13us/sample - loss: 50232678.6491 - val_loss: 51398652.5584\n",
      "Epoch 88/300\n",
      "9090/9090 [==============================] - 0s 18us/sample - loss: 49388485.3685 - val_loss: 50533018.5414\n",
      "Epoch 89/300\n",
      "9090/9090 [==============================] - 0s 12us/sample - loss: 48527167.6392 - val_loss: 49662727.8645\n",
      "Epoch 90/300\n",
      "9090/9090 [==============================] - 0s 11us/sample - loss: 47656735.2959 - val_loss: 48786447.9949\n",
      "Epoch 91/300\n",
      "9090/9090 [==============================] - 0s 18us/sample - loss: 46780406.5787 - val_loss: 47901987.8625\n",
      "Epoch 92/300\n",
      "9090/9090 [==============================] - 0s 11us/sample - loss: 45909178.0968 - val_loss: 46994360.0380\n",
      "Epoch 93/300\n",
      "9090/9090 [==============================] - 0s 11us/sample - loss: 45027197.5424 - val_loss: 46063945.6659\n",
      "Epoch 94/300\n",
      "9090/9090 [==============================] - 0s 16us/sample - loss: 44121309.1837 - val_loss: 45193895.8840\n",
      "Epoch 95/300\n",
      "9090/9090 [==============================] - 0s 15us/sample - loss: 43232633.9318 - val_loss: 44257529.8188\n",
      "Epoch 96/300\n",
      "9090/9090 [==============================] - 0s 13us/sample - loss: 42354150.3982 - val_loss: 43366446.4101\n",
      "Epoch 97/300\n",
      "9090/9090 [==============================] - 0s 14us/sample - loss: 41498448.9461 - val_loss: 42487217.1106\n",
      "Epoch 98/300\n",
      "9090/9090 [==============================] - 0s 18us/sample - loss: 40630973.3883 - val_loss: 41613121.9636\n",
      "Epoch 99/300\n",
      "9090/9090 [==============================] - 0s 12us/sample - loss: 39811426.6381 - val_loss: 40757885.6454\n",
      "Epoch 100/300\n",
      "9090/9090 [==============================] - 0s 12us/sample - loss: 39014107.0649 - val_loss: 39921067.7680\n",
      "Epoch 101/300\n",
      "9090/9090 [==============================] - 0s 18us/sample - loss: 38196251.8086 - val_loss: 39089367.7013\n",
      "Epoch 102/300\n",
      "9090/9090 [==============================] - 0s 12us/sample - loss: 37429601.0231 - val_loss: 38349464.5820\n",
      "Epoch 103/300\n",
      "9090/9090 [==============================] - 0s 12us/sample - loss: 36700861.9494 - val_loss: 37536330.6359\n",
      "Epoch 104/300\n",
      "9090/9090 [==============================] - 0s 10us/sample - loss: 35964041.4961 - val_loss: 36798310.6405\n",
      "Epoch 105/300\n",
      "9090/9090 [==============================] - 0s 11us/sample - loss: 35313141.3113 - val_loss: 36129762.4424\n",
      "Epoch 106/300\n",
      "9090/9090 [==============================] - 0s 10us/sample - loss: 34648628.6997 - val_loss: 35446655.4863\n",
      "Epoch 107/300\n",
      "9090/9090 [==============================] - 0s 10us/sample - loss: 34000634.0682 - val_loss: 34785494.4444\n",
      "Epoch 108/300\n",
      "9090/9090 [==============================] - 0s 11us/sample - loss: 33412273.8768 - val_loss: 34146209.5828\n",
      "Epoch 109/300\n",
      "9090/9090 [==============================] - 0s 12us/sample - loss: 32791266.9285 - val_loss: 33555310.3187\n",
      "Epoch 110/300\n",
      "9090/9090 [==============================] - 0s 11us/sample - loss: 32207311.6876 - val_loss: 32906422.5404\n",
      "Epoch 111/300\n",
      "9090/9090 [==============================] - 0s 11us/sample - loss: 31605266.2750 - val_loss: 32294031.2487\n",
      "Epoch 112/300\n",
      "9090/9090 [==============================] - 0s 13us/sample - loss: 31007016.4598 - val_loss: 31760434.9920\n",
      "Epoch 113/300\n",
      "9090/9090 [==============================] - 0s 11us/sample - loss: 30442011.7536 - val_loss: 31114486.2587\n",
      "Epoch 114/300\n",
      "9090/9090 [==============================] - 0s 11us/sample - loss: 29904483.1837 - val_loss: 30552534.0611\n",
      "Epoch 115/300\n",
      "9090/9090 [==============================] - 0s 11us/sample - loss: 29264774.1298 - val_loss: 29961081.7850\n",
      "Epoch 116/300\n",
      "9090/9090 [==============================] - 0s 12us/sample - loss: 28724376.6161 - val_loss: 29421093.5263\n",
      "Epoch 117/300\n",
      "9090/9090 [==============================] - ETA: 0s - loss: 28215982.53 - 0s 9us/sample - loss: 28225235.7514 - val_loss: 28944209.1542\n",
      "Epoch 118/300\n",
      "9090/9090 [==============================] - 0s 10us/sample - loss: 27736668.0440 - val_loss: 28519162.1683\n",
      "Epoch 119/300\n",
      "9090/9090 [==============================] - 0s 11us/sample - loss: 27309806.8295 - val_loss: 28045422.2587\n",
      "Epoch 120/300\n",
      "9090/9090 [==============================] - 0s 11us/sample - loss: 26892637.8812 - val_loss: 27640920.2494\n",
      "Epoch 121/300\n",
      "9090/9090 [==============================] - 0s 11us/sample - loss: 26527310.8955 - val_loss: 27311016.5958\n",
      "Epoch 122/300\n",
      "9090/9090 [==============================] - 0s 11us/sample - loss: 26179501.6260 - val_loss: 27016859.2697\n",
      "Epoch 123/300\n",
      "9090/9090 [==============================] - 0s 11us/sample - loss: 25889495.3047 - val_loss: 26732244.5358\n",
      "Epoch 124/300\n",
      "9090/9090 [==============================] - 0s 11us/sample - loss: 25603333.7448 - val_loss: 26457451.9446\n",
      "Epoch 125/300\n",
      "9090/9090 [==============================] - 0s 10us/sample - loss: 25338597.7162 - val_loss: 26219589.9317\n",
      "Epoch 126/300\n",
      "9090/9090 [==============================] - 0s 17us/sample - loss: 25110589.4323 - val_loss: 25998101.2132\n",
      "Epoch 127/300\n",
      "9090/9090 [==============================] - 0s 17us/sample - loss: 24901043.9604 - val_loss: 25780947.3749\n",
      "Epoch 128/300\n",
      "9090/9090 [==============================] - 0s 10us/sample - loss: 24693377.4389 - val_loss: 25608599.5263\n",
      "Epoch 129/300\n",
      "9090/9090 [==============================] - 0s 15us/sample - loss: 24496580.6469 - val_loss: 25407800.0098\n",
      "Epoch 130/300\n",
      "9090/9090 [==============================] - 0s 12us/sample - loss: 24339489.8042 - val_loss: 25260808.4598\n",
      "Epoch 131/300\n",
      "9090/9090 [==============================] - 0s 12us/sample - loss: 24116931.8680 - val_loss: 25050033.3010\n",
      "Epoch 132/300\n",
      "9090/9090 [==============================] - 0s 9us/sample - loss: 23925101.5974 - val_loss: 24881822.4447\n",
      "Epoch 133/300\n",
      "9090/9090 [==============================] - 0s 13us/sample - loss: 23783572.4862 - val_loss: 24720201.8681\n",
      "Epoch 134/300\n",
      "9090/9090 [==============================] - 0s 12us/sample - loss: 23602716.6722 - val_loss: 24560599.3693\n",
      "Epoch 135/300\n"
     ]
    },
    {
     "name": "stdout",
     "output_type": "stream",
     "text": [
      "9090/9090 [==============================] - 0s 12us/sample - loss: 23422867.5677 - val_loss: 24412532.2612\n",
      "Epoch 136/300\n",
      "9090/9090 [==============================] - 0s 11us/sample - loss: 23298090.9131 - val_loss: 24286488.9849\n",
      "Epoch 137/300\n",
      "9090/9090 [==============================] - 0s 12us/sample - loss: 23133967.9747 - val_loss: 24124856.8807\n",
      "Epoch 138/300\n",
      "9090/9090 [==============================] - 0s 12us/sample - loss: 22977507.3333 - val_loss: 23992596.7288\n",
      "Epoch 139/300\n",
      "9090/9090 [==============================] - 0s 12us/sample - loss: 22838749.5314 - val_loss: 23872653.0747\n",
      "Epoch 140/300\n",
      "9090/9090 [==============================] - 0s 13us/sample - loss: 22720039.8163 - val_loss: 23753786.1206\n",
      "Epoch 141/300\n",
      "9090/9090 [==============================] - 0s 12us/sample - loss: 22586042.1738 - val_loss: 23681343.7290\n",
      "Epoch 142/300\n",
      "9090/9090 [==============================] - 0s 11us/sample - loss: 22480123.4862 - val_loss: 23532154.5784\n",
      "Epoch 143/300\n",
      "9090/9090 [==============================] - 0s 13us/sample - loss: 22350154.0385 - val_loss: 23449381.3569\n",
      "Epoch 144/300\n",
      "9090/9090 [==============================] - 0s 11us/sample - loss: 22240221.2486 - val_loss: 23328940.6025\n",
      "Epoch 145/300\n",
      "9090/9090 [==============================] - 0s 11us/sample - loss: 22125289.3817 - val_loss: 23236075.1712\n",
      "Epoch 146/300\n",
      "9090/9090 [==============================] - 0s 11us/sample - loss: 22003216.1936 - val_loss: 23208027.2784\n",
      "Epoch 147/300\n",
      "9090/9090 [==============================] - 0s 13us/sample - loss: 21927957.5732 - val_loss: 23097850.3269\n",
      "Epoch 148/300\n",
      "9090/9090 [==============================] - 0s 13us/sample - loss: 21849128.3531 - val_loss: 23053919.1855\n",
      "Epoch 149/300\n",
      "9090/9090 [==============================] - 0s 11us/sample - loss: 21756501.3278 - val_loss: 22971573.1096\n",
      "Epoch 150/300\n",
      "9090/9090 [==============================] - 0s 16us/sample - loss: 21686094.4488 - val_loss: 22860178.8560\n",
      "Epoch 151/300\n",
      "9090/9090 [==============================] - 0s 11us/sample - loss: 21627811.4180 - val_loss: 22801830.0115\n",
      "Epoch 152/300\n",
      "9090/9090 [==============================] - 0s 15us/sample - loss: 21537888.9318 - val_loss: 22731799.7275\n",
      "Epoch 153/300\n",
      "9090/9090 [==============================] - 0s 12us/sample - loss: 21470511.1507 - val_loss: 22691410.0123\n",
      "Epoch 154/300\n",
      "9090/9090 [==============================] - 0s 12us/sample - loss: 21413755.8515 - val_loss: 22618452.9695\n",
      "Epoch 155/300\n",
      "9090/9090 [==============================] - 0s 11us/sample - loss: 21362357.3366 - val_loss: 22566841.2022\n",
      "Epoch 156/300\n",
      "9090/9090 [==============================] - 0s 11us/sample - loss: 21300100.5061 - val_loss: 22525206.6482\n",
      "Epoch 157/300\n",
      "9090/9090 [==============================] - 0s 11us/sample - loss: 21262243.1551 - val_loss: 22473932.2145\n",
      "Epoch 158/300\n",
      "9090/9090 [==============================] - 0s 10us/sample - loss: 21229376.8735 - val_loss: 22440510.0914\n",
      "Epoch 159/300\n",
      "9090/9090 [==============================] - 0s 10us/sample - loss: 21158270.9274 - val_loss: 22402240.9695\n",
      "Epoch 160/300\n",
      "9090/9090 [==============================] - 0s 11us/sample - loss: 21120929.3729 - val_loss: 22344940.5897\n",
      "Epoch 161/300\n",
      "9090/9090 [==============================] - 0s 11us/sample - loss: 21035680.5281 - val_loss: 22325811.5545\n",
      "Epoch 162/300\n",
      "9090/9090 [==============================] - 0s 13us/sample - loss: 20994228.9318 - val_loss: 22284365.3251\n",
      "Epoch 163/300\n",
      "9090/9090 [==============================] - 0s 11us/sample - loss: 20964039.6909 - val_loss: 22293245.4231\n",
      "Epoch 164/300\n",
      "9090/9090 [==============================] - 0s 11us/sample - loss: 20909013.4433 - val_loss: 22225053.6833\n",
      "Epoch 165/300\n",
      "9090/9090 [==============================] - 0s 10us/sample - loss: 20847078.4103 - val_loss: 22183734.0272\n",
      "Epoch 166/300\n",
      "9090/9090 [==============================] - 0s 11us/sample - loss: 20830529.9868 - val_loss: 22137655.6264\n",
      "Epoch 167/300\n",
      "9090/9090 [==============================] - 0s 14us/sample - loss: 20804478.9098 - val_loss: 22129957.2179\n",
      "Epoch 168/300\n",
      "9090/9090 [==============================] - 0s 11us/sample - loss: 20761263.9186 - val_loss: 22063444.8545\n",
      "Epoch 169/300\n",
      "9090/9090 [==============================] - 0s 15us/sample - loss: 20704643.4103 - val_loss: 22064957.2907\n",
      "Epoch 170/300\n",
      "9090/9090 [==============================] - 0s 11us/sample - loss: 20678893.2332 - val_loss: 22009151.2897\n",
      "Epoch 171/300\n",
      "9090/9090 [==============================] - 0s 12us/sample - loss: 20657869.8691 - val_loss: 22010887.6238\n",
      "Epoch 172/300\n",
      "9090/9090 [==============================] - 0s 12us/sample - loss: 20624596.1089 - val_loss: 22021722.1868\n",
      "Epoch 173/300\n",
      "9090/9090 [==============================] - 0s 13us/sample - loss: 20568155.9010 - val_loss: 21926162.9967\n",
      "Epoch 174/300\n",
      "9090/9090 [==============================] - 0s 13us/sample - loss: 20531389.0990 - val_loss: 21908058.0565\n",
      "Epoch 175/300\n",
      "9090/9090 [==============================] - 0s 10us/sample - loss: 20502524.0286 - val_loss: 21891777.8655\n",
      "Epoch 176/300\n",
      "9090/9090 [==============================] - 0s 12us/sample - loss: 20471627.1265 - val_loss: 21854539.1958\n",
      "Epoch 177/300\n",
      "9090/9090 [==============================] - 0s 11us/sample - loss: 20433503.3531 - val_loss: 21835235.9749\n",
      "Epoch 178/300\n",
      "9090/9090 [==============================] - 0s 11us/sample - loss: 20396279.8823 - val_loss: 21795493.1886\n",
      "Epoch 179/300\n",
      "9090/9090 [==============================] - 0s 11us/sample - loss: 20366557.9505 - val_loss: 21766219.2666\n",
      "Epoch 180/300\n",
      "9090/9090 [==============================] - 0s 11us/sample - loss: 20333043.9549 - val_loss: 21746291.8807\n",
      "Epoch 181/300\n",
      "9090/9090 [==============================] - 0s 10us/sample - loss: 20310216.8284 - val_loss: 21718458.7005\n",
      "Epoch 182/300\n",
      "9090/9090 [==============================] - 0s 11us/sample - loss: 20270158.9747 - val_loss: 21700007.2707\n",
      "Epoch 183/300\n",
      "9090/9090 [==============================] - 0s 10us/sample - loss: 20249804.2013 - val_loss: 21673856.5958\n",
      "Epoch 184/300\n",
      "9090/9090 [==============================] - 0s 11us/sample - loss: 20239935.8603 - val_loss: 21646628.7611\n",
      "Epoch 185/300\n",
      "9090/9090 [==============================] - 0s 12us/sample - loss: 20192336.7580 - val_loss: 21643499.1681\n",
      "Epoch 186/300\n",
      "9090/9090 [==============================] - 0s 13us/sample - loss: 20171957.9791 - val_loss: 21608609.9938\n",
      "Epoch 187/300\n",
      "9090/9090 [==============================] - 0s 12us/sample - loss: 20164209.3014 - val_loss: 21584619.7485\n",
      "Epoch 188/300\n",
      "9090/9090 [==============================] - 0s 12us/sample - loss: 20125069.9736 - val_loss: 21568559.3457\n",
      "Epoch 189/300\n",
      "9090/9090 [==============================] - 0s 12us/sample - loss: 20110742.1661 - val_loss: 21541329.6628\n",
      "Epoch 190/300\n",
      "9090/9090 [==============================] - 0s 11us/sample - loss: 20083283.3080 - val_loss: 21549073.6869\n",
      "Epoch 191/300\n",
      "9090/9090 [==============================] - 0s 11us/sample - loss: 20061750.9054 - val_loss: 21512820.2820\n",
      "Epoch 192/300\n",
      "9090/9090 [==============================] - 0s 14us/sample - loss: 20049480.0275 - val_loss: 21513930.9069\n",
      "Epoch 193/300\n",
      "9090/9090 [==============================] - 0s 11us/sample - loss: 20012834.4015 - val_loss: 21519068.1560\n",
      "Epoch 194/300\n",
      "9090/9090 [==============================] - 0s 16us/sample - loss: 19993560.5798 - val_loss: 21460817.8858\n",
      "Epoch 195/300\n",
      "9090/9090 [==============================] - 0s 17us/sample - loss: 19969449.5578 - val_loss: 21636286.4881\n",
      "Epoch 196/300\n",
      "9090/9090 [==============================] - 0s 17us/sample - loss: 20097132.5336 - val_loss: 21454132.1909\n",
      "Epoch 197/300\n",
      "9090/9090 [==============================] - 0s 11us/sample - loss: 19968805.2013 - val_loss: 21490227.9838\n",
      "Epoch 198/300\n",
      "9090/9090 [==============================] - 0s 11us/sample - loss: 19935415.1364 - val_loss: 21405087.2605\n",
      "Epoch 199/300\n",
      "9090/9090 [==============================] - 0s 11us/sample - loss: 19931171.3894 - val_loss: 21384471.5166\n",
      "Epoch 200/300\n",
      "9090/9090 [==============================] - 0s 11us/sample - loss: 19870575.4532 - val_loss: 21410167.9969\n",
      "Epoch 201/300\n",
      "9090/9090 [==============================] - 0s 10us/sample - loss: 19975170.6502 - val_loss: 21393575.3723\n",
      "Epoch 202/300\n"
     ]
    },
    {
     "name": "stdout",
     "output_type": "stream",
     "text": [
      "9090/9090 [==============================] - 0s 11us/sample - loss: 19872389.3487 - val_loss: 21334429.0485\n",
      "Epoch 203/300\n",
      "9090/9090 [==============================] - 0s 11us/sample - loss: 19855961.5820 - val_loss: 21380394.7123\n",
      "Epoch 204/300\n",
      "9090/9090 [==============================] - 0s 11us/sample - loss: 19821194.7448 - val_loss: 21295503.3036\n",
      "Epoch 205/300\n",
      "9090/9090 [==============================] - 0s 11us/sample - loss: 19811755.2706 - val_loss: 21277774.5117\n",
      "Epoch 206/300\n",
      "9090/9090 [==============================] - 0s 14us/sample - loss: 19796907.6062 - val_loss: 21269750.4347\n",
      "Epoch 207/300\n",
      "9090/9090 [==============================] - 0s 13us/sample - loss: 19797854.7019 - val_loss: 21259033.2676\n",
      "Epoch 208/300\n",
      "9090/9090 [==============================] - 0s 13us/sample - loss: 19805189.9329 - val_loss: 21238460.6626\n",
      "Epoch 209/300\n",
      "9090/9090 [==============================] - 0s 12us/sample - loss: 19756154.4257 - val_loss: 21257779.8563\n",
      "Epoch 210/300\n",
      "9090/9090 [==============================] - 0s 13us/sample - loss: 19729105.3641 - val_loss: 21220550.0570\n",
      "Epoch 211/300\n",
      "9090/9090 [==============================] - 0s 14us/sample - loss: 19701250.6755 - val_loss: 21192997.9215\n",
      "Epoch 212/300\n",
      "9090/9090 [==============================] - 0s 12us/sample - loss: 19700484.4829 - val_loss: 21191295.7988\n",
      "Epoch 213/300\n",
      "9090/9090 [==============================] - 0s 11us/sample - loss: 19687782.8537 - val_loss: 21163500.0770\n",
      "Epoch 214/300\n",
      "9090/9090 [==============================] - 0s 14us/sample - loss: 19677411.8614 - val_loss: 21153268.9777\n",
      "Epoch 215/300\n",
      "9090/9090 [==============================] - 0s 12us/sample - loss: 19647226.8878 - val_loss: 21139301.6325\n",
      "Epoch 216/300\n",
      "9090/9090 [==============================] - 0s 15us/sample - loss: 19630449.0583 - val_loss: 21141348.8196\n",
      "Epoch 217/300\n",
      "9090/9090 [==============================] - 0s 12us/sample - loss: 19635198.9780 - val_loss: 21163757.4534\n",
      "Epoch 218/300\n",
      "9090/9090 [==============================] - 0s 12us/sample - loss: 19616626.1606 - val_loss: 21099441.8424\n",
      "Epoch 219/300\n",
      "9090/9090 [==============================] - 0s 11us/sample - loss: 19599796.2541 - val_loss: 21089971.5869\n",
      "Epoch 220/300\n",
      "9090/9090 [==============================] - 0s 13us/sample - loss: 19636760.9879 - val_loss: 21138340.4809\n",
      "Epoch 221/300\n",
      "9090/9090 [==============================] - 0s 17us/sample - loss: 19568770.8339 - val_loss: 21053335.3421\n",
      "Epoch 222/300\n",
      "9090/9090 [==============================] - 0s 18us/sample - loss: 19547287.1551 - val_loss: 21020241.5992\n",
      "Epoch 223/300\n",
      "9090/9090 [==============================] - 0s 14us/sample - loss: 19531021.9186 - val_loss: 21016679.6505\n",
      "Epoch 224/300\n",
      "9090/9090 [==============================] - 0s 14us/sample - loss: 19516571.2002 - val_loss: 20996152.6913\n",
      "Epoch 225/300\n",
      "9090/9090 [==============================] - 0s 14us/sample - loss: 19508738.9032 - val_loss: 20985422.5651\n",
      "Epoch 226/300\n",
      "9090/9090 [==============================] - 0s 16us/sample - loss: 19511621.7954 - val_loss: 20963175.5207\n",
      "Epoch 227/300\n",
      "9090/9090 [==============================] - 0s 17us/sample - loss: 19498306.8251 - val_loss: 20967126.4347\n",
      "Epoch 228/300\n",
      "9090/9090 [==============================] - 0s 16us/sample - loss: 19476751.3443 - val_loss: 20940205.7362\n",
      "Epoch 229/300\n",
      "9090/9090 [==============================] - 0s 16us/sample - loss: 19442365.7228 - val_loss: 20923961.9800\n",
      "Epoch 230/300\n",
      "9090/9090 [==============================] - 0s 16us/sample - loss: 19434247.7184 - val_loss: 20910784.9402\n",
      "Epoch 231/300\n",
      "9090/9090 [==============================] - 0s 16us/sample - loss: 19435868.9351 - val_loss: 20939342.9233\n",
      "Epoch 232/300\n",
      "9090/9090 [==============================] - 0s 16us/sample - loss: 19415315.4774 - val_loss: 20957751.6351\n",
      "Epoch 233/300\n",
      "9090/9090 [==============================] - 0s 15us/sample - loss: 19417640.9879 - val_loss: 20867012.2448\n",
      "Epoch 234/300\n",
      "9090/9090 [==============================] - 0s 17us/sample - loss: 19373863.0825 - val_loss: 20857171.7300\n",
      "Epoch 235/300\n",
      "9090/9090 [==============================] - 0s 16us/sample - loss: 19364137.4004 - val_loss: 20841567.9502\n",
      "Epoch 236/300\n",
      "9090/9090 [==============================] - 0s 16us/sample - loss: 19357633.4510 - val_loss: 20818697.2435\n",
      "Epoch 237/300\n",
      "9090/9090 [==============================] - 0s 15us/sample - loss: 19362726.8614 - val_loss: 20807886.0103\n",
      "Epoch 238/300\n",
      "9090/9090 [==============================] - 0s 17us/sample - loss: 19339551.5358 - val_loss: 20839463.4822\n",
      "Epoch 239/300\n",
      "9090/9090 [==============================] - 0s 16us/sample - loss: 19348636.2321 - val_loss: 20815124.4367\n",
      "Epoch 240/300\n",
      "9090/9090 [==============================] - 0s 15us/sample - loss: 19280990.8515 - val_loss: 20766880.0508\n",
      "Epoch 241/300\n",
      "9090/9090 [==============================] - 0s 17us/sample - loss: 19279556.1716 - val_loss: 20767145.3595\n",
      "Epoch 242/300\n",
      "9090/9090 [==============================] - 0s 16us/sample - loss: 19289397.2706 - val_loss: 20726064.4819\n",
      "Epoch 243/300\n",
      "9090/9090 [==============================] - 0s 20us/sample - loss: 19259993.1188 - val_loss: 20713493.1352\n",
      "Epoch 244/300\n",
      "9090/9090 [==============================] - 0s 18us/sample - loss: 19266777.1078 - val_loss: 20691790.6957\n",
      "Epoch 245/300\n",
      "9090/9090 [==============================] - 0s 22us/sample - loss: 19236437.5061 - val_loss: 20680404.9936\n",
      "Epoch 246/300\n",
      "9090/9090 [==============================] - 0s 16us/sample - loss: 19218751.2277 - val_loss: 20672433.6949\n",
      "Epoch 247/300\n",
      "9090/9090 [==============================] - 0s 21us/sample - loss: 19205702.1210 - val_loss: 20732393.0190\n",
      "Epoch 248/300\n",
      "9090/9090 [==============================] - 0s 14us/sample - loss: 19190302.3245 - val_loss: 20654479.4801\n",
      "Epoch 249/300\n",
      "9090/9090 [==============================] - 0s 17us/sample - loss: 19188858.9868 - val_loss: 20668695.9651\n",
      "Epoch 250/300\n",
      "9090/9090 [==============================] - 0s 15us/sample - loss: 19165384.6623 - val_loss: 20599527.1778\n",
      "Epoch 251/300\n",
      "9090/9090 [==============================] - 0s 14us/sample - loss: 19148141.5237 - val_loss: 20596581.1350\n",
      "Epoch 252/300\n",
      "9090/9090 [==============================] - 0s 18us/sample - loss: 19122689.2013 - val_loss: 20563370.8191\n",
      "Epoch 253/300\n",
      "9090/9090 [==============================] - 0s 15us/sample - loss: 19103801.4268 - val_loss: 20592997.1532\n",
      "Epoch 254/300\n",
      "9090/9090 [==============================] - 0s 19us/sample - loss: 19095209.9087 - val_loss: 20528354.2502\n",
      "Epoch 255/300\n",
      "9090/9090 [==============================] - 0s 17us/sample - loss: 19066489.0935 - val_loss: 20525254.2705\n",
      "Epoch 256/300\n",
      "9090/9090 [==============================] - 0s 17us/sample - loss: 19077863.8999 - val_loss: 20490130.6695\n",
      "Epoch 257/300\n",
      "9090/9090 [==============================] - 0s 18us/sample - loss: 19049517.0385 - val_loss: 20477252.5640\n",
      "Epoch 258/300\n",
      "9090/9090 [==============================] - 0s 19us/sample - loss: 19035483.4015 - val_loss: 20496379.7906\n",
      "Epoch 259/300\n",
      "9090/9090 [==============================] - 0s 19us/sample - loss: 19048658.3025 - val_loss: 20495756.5296\n",
      "Epoch 260/300\n",
      "9090/9090 [==============================] - 0s 20us/sample - loss: 19032996.8218 - val_loss: 20443744.0503\n",
      "Epoch 261/300\n",
      "9090/9090 [==============================] - 0s 19us/sample - loss: 18989552.4983 - val_loss: 20410608.5630\n",
      "Epoch 262/300\n",
      "9090/9090 [==============================] - 0s 17us/sample - loss: 18975548.9428 - val_loss: 20413732.9664\n",
      "Epoch 263/300\n",
      "9090/9090 [==============================] - 0s 13us/sample - loss: 18990334.5600 - val_loss: 20416716.0467\n",
      "Epoch 264/300\n",
      "9090/9090 [==============================] - 0s 16us/sample - loss: 18995009.6183 - val_loss: 20410622.3598\n",
      "Epoch 265/300\n",
      "9090/9090 [==============================] - 0s 17us/sample - loss: 18959059.6953 - val_loss: 20366550.7277\n",
      "Epoch 266/300\n",
      "9090/9090 [==============================] - 0s 17us/sample - loss: 18912831.6700 - val_loss: 20343349.4729\n",
      "Epoch 267/300\n",
      "9090/9090 [==============================] - 0s 13us/sample - loss: 18908210.3124 - val_loss: 20340577.6469\n",
      "Epoch 268/300\n",
      "9090/9090 [==============================] - 0s 14us/sample - loss: 18921596.1199 - val_loss: 20416550.0118\n",
      "Epoch 269/300\n"
     ]
    },
    {
     "name": "stdout",
     "output_type": "stream",
     "text": [
      "9090/9090 [==============================] - 0s 17us/sample - loss: 18887079.4202 - val_loss: 20312371.9654\n",
      "Epoch 270/300\n",
      "9090/9090 [==============================] - 0s 16us/sample - loss: 18853481.3421 - val_loss: 20314279.7824\n",
      "Epoch 271/300\n",
      "9090/9090 [==============================] - 0s 17us/sample - loss: 18874271.8174 - val_loss: 20294247.1871\n",
      "Epoch 272/300\n",
      "9090/9090 [==============================] - 0s 16us/sample - loss: 18860363.9010 - val_loss: 20406284.0298\n",
      "Epoch 273/300\n",
      "9090/9090 [==============================] - 0s 16us/sample - loss: 18877441.3509 - val_loss: 20287455.7675\n",
      "Epoch 274/300\n",
      "9090/9090 [==============================] - 0s 16us/sample - loss: 18814172.9472 - val_loss: 20273036.7139\n",
      "Epoch 275/300\n",
      "9090/9090 [==============================] - 0s 17us/sample - loss: 18794574.6491 - val_loss: 20240093.8158\n",
      "Epoch 276/300\n",
      "9090/9090 [==============================] - 0s 15us/sample - loss: 18787148.5974 - val_loss: 20228510.4686\n",
      "Epoch 277/300\n",
      "9090/9090 [==============================] - 0s 17us/sample - loss: 18767838.7063 - val_loss: 20223552.9258\n",
      "Epoch 278/300\n",
      "9090/9090 [==============================] - 0s 17us/sample - loss: 18751352.1980 - val_loss: 20221972.0205\n",
      "Epoch 279/300\n",
      "9090/9090 [==============================] - 0s 21us/sample - loss: 18723422.8900 - val_loss: 20246028.4337\n",
      "Epoch 280/300\n",
      "9090/9090 [==============================] - 0s 16us/sample - loss: 18720633.3828 - val_loss: 20189993.4822\n",
      "Epoch 281/300\n",
      "9090/9090 [==============================] - 0s 18us/sample - loss: 18716555.7074 - val_loss: 20172109.9656\n",
      "Epoch 282/300\n",
      "9090/9090 [==============================] - 0s 16us/sample - loss: 18755777.0319 - val_loss: 20222514.0087\n",
      "Epoch 283/300\n",
      "9090/9090 [==============================] - 0s 18us/sample - loss: 18695704.7910 - val_loss: 20169881.5946\n",
      "Epoch 284/300\n",
      "9090/9090 [==============================] - 0s 16us/sample - loss: 18687663.9153 - val_loss: 20163405.3441\n",
      "Epoch 285/300\n",
      "9090/9090 [==============================] - 0s 15us/sample - loss: 18736879.0814 - val_loss: 20230295.7737\n",
      "Epoch 286/300\n",
      "9090/9090 [==============================] - 0s 16us/sample - loss: 18688624.1903 - val_loss: 20124220.1991\n",
      "Epoch 287/300\n",
      "9090/9090 [==============================] - 0s 18us/sample - loss: 18640553.1485 - val_loss: 20107350.2145\n",
      "Epoch 288/300\n",
      "9090/9090 [==============================] - 0s 15us/sample - loss: 18623172.8042 - val_loss: 20112767.6413\n",
      "Epoch 289/300\n",
      "9090/9090 [==============================] - 0s 19us/sample - loss: 18634847.7041 - val_loss: 20093694.8129\n",
      "Epoch 290/300\n",
      "9090/9090 [==============================] - 0s 16us/sample - loss: 18587634.2013 - val_loss: 20090413.8389\n",
      "Epoch 291/300\n",
      "9090/9090 [==============================] - 0s 16us/sample - loss: 18584054.8801 - val_loss: 20144838.1853\n",
      "Epoch 292/300\n",
      "9090/9090 [==============================] - 0s 15us/sample - loss: 18582353.9230 - val_loss: 20061594.3988\n",
      "Epoch 293/300\n",
      "9090/9090 [==============================] - 0s 17us/sample - loss: 18584970.6403 - val_loss: 20035832.4937\n",
      "Epoch 294/300\n",
      "9090/9090 [==============================] - 0s 15us/sample - loss: 18581644.9450 - val_loss: 20070821.5961\n",
      "Epoch 295/300\n",
      "9090/9090 [==============================] - 0s 16us/sample - loss: 18534608.1650 - val_loss: 20018429.6833\n",
      "Epoch 296/300\n",
      "9090/9090 [==============================] - 0s 16us/sample - loss: 18524371.7613 - val_loss: 20006549.3744\n",
      "Epoch 297/300\n",
      "9090/9090 [==============================] - 0s 16us/sample - loss: 18536254.7811 - val_loss: 19995941.5006\n",
      "Epoch 298/300\n",
      "9090/9090 [==============================] - 0s 16us/sample - loss: 18496450.5435 - val_loss: 19985079.9428\n",
      "Epoch 299/300\n",
      "9090/9090 [==============================] - 0s 16us/sample - loss: 18507939.3707 - val_loss: 19976204.0087\n",
      "Epoch 300/300\n",
      "9090/9090 [==============================] - 0s 15us/sample - loss: 18548804.2453 - val_loss: 19997826.9243\n"
     ]
    },
    {
     "data": {
      "text/plain": [
       "<tensorflow.python.keras.callbacks.History at 0x250d4f0dc08>"
      ]
     },
     "execution_count": 61,
     "metadata": {},
     "output_type": "execute_result"
    }
   ],
   "source": [
    "model.fit(x=x_train, y=y_train,validation_data=(x_test,y_test), batch_size = 250 ,epochs = 300)\n",
    "#batch-> Elimizde cok data varsa biz bunlari modele birden\n",
    "#verirsek sorun olabilir. O yuzden parca parca vericez yani\n",
    "#bach de ne belirtirsek o kadar o kadar vericez"
   ]
  },
  {
   "cell_type": "code",
   "execution_count": 62,
   "metadata": {},
   "outputs": [],
   "source": [
    "#Cıktıya bakarsak nrmalde loss vardi ama bir de val_loss\n",
    "#yani validasyon loss(dogrulama loss u) u var. Dogrulama\n",
    "#kayiplarini gorebiliriz boylece\n",
    "#Simdi grafige dokelim"
   ]
  },
  {
   "cell_type": "code",
   "execution_count": 63,
   "metadata": {},
   "outputs": [],
   "source": [
    "kayipVerisi = pd.DataFrame(model.history.history)"
   ]
  },
  {
   "cell_type": "code",
   "execution_count": 64,
   "metadata": {},
   "outputs": [
    {
     "data": {
      "text/html": [
       "<div>\n",
       "<style scoped>\n",
       "    .dataframe tbody tr th:only-of-type {\n",
       "        vertical-align: middle;\n",
       "    }\n",
       "\n",
       "    .dataframe tbody tr th {\n",
       "        vertical-align: top;\n",
       "    }\n",
       "\n",
       "    .dataframe thead th {\n",
       "        text-align: right;\n",
       "    }\n",
       "</style>\n",
       "<table border=\"1\" class=\"dataframe\">\n",
       "  <thead>\n",
       "    <tr style=\"text-align: right;\">\n",
       "      <th></th>\n",
       "      <th>loss</th>\n",
       "      <th>val_loss</th>\n",
       "    </tr>\n",
       "  </thead>\n",
       "  <tbody>\n",
       "    <tr>\n",
       "      <th>0</th>\n",
       "      <td>6.721321e+08</td>\n",
       "      <td>6.880773e+08</td>\n",
       "    </tr>\n",
       "    <tr>\n",
       "      <th>1</th>\n",
       "      <td>6.720728e+08</td>\n",
       "      <td>6.879730e+08</td>\n",
       "    </tr>\n",
       "    <tr>\n",
       "      <th>2</th>\n",
       "      <td>6.718751e+08</td>\n",
       "      <td>6.876146e+08</td>\n",
       "    </tr>\n",
       "    <tr>\n",
       "      <th>3</th>\n",
       "      <td>6.712115e+08</td>\n",
       "      <td>6.864490e+08</td>\n",
       "    </tr>\n",
       "    <tr>\n",
       "      <th>4</th>\n",
       "      <td>6.692015e+08</td>\n",
       "      <td>6.831452e+08</td>\n",
       "    </tr>\n",
       "  </tbody>\n",
       "</table>\n",
       "</div>"
      ],
      "text/plain": [
       "           loss      val_loss\n",
       "0  6.721321e+08  6.880773e+08\n",
       "1  6.720728e+08  6.879730e+08\n",
       "2  6.718751e+08  6.876146e+08\n",
       "3  6.712115e+08  6.864490e+08\n",
       "4  6.692015e+08  6.831452e+08"
      ]
     },
     "execution_count": 64,
     "metadata": {},
     "output_type": "execute_result"
    }
   ],
   "source": [
    "kayipVerisi.head()"
   ]
  },
  {
   "cell_type": "code",
   "execution_count": 65,
   "metadata": {},
   "outputs": [
    {
     "data": {
      "text/plain": [
       "<matplotlib.axes._subplots.AxesSubplot at 0x250d62662c8>"
      ]
     },
     "execution_count": 65,
     "metadata": {},
     "output_type": "execute_result"
    },
    {
     "data": {
      "image/png": "[encoded data removed]",
      "text/plain": [
       "<Figure size 432x288 with 1 Axes>"
      ]
     },
     "metadata": {
      "needs_background": "light"
     },
     "output_type": "display_data"
    }
   ],
   "source": [
    "kayipVerisi.plot()"
   ]
  },
  {
   "cell_type": "code",
   "execution_count": 66,
   "metadata": {},
   "outputs": [],
   "source": [
    "#Bakacagimiz ilk sey grafik dusup 0 a yaklasiyo mu-> Evet\n",
    "#Ikincisi loss ve val_loss(dogrulama kaybi) beraber hareket\n",
    "#ediyo mu(ozellikle sonlara dogru)-> Evet\n",
    "#Eger epochs u 500 1000 gibi yuksek vereydik grafikte loss\n",
    "#ve validation loss grafikte bir sure sonra ayrılmaya bas\n",
    "#lardi. Bu da demektir ki veriler overfitting oluyo yani\n",
    "#Cok ogreniyo"
   ]
  },
  {
   "cell_type": "code",
   "execution_count": 68,
   "metadata": {},
   "outputs": [],
   "source": [
    "from sklearn.metrics import mean_squared_error, mean_absolute_error"
   ]
  },
  {
   "cell_type": "code",
   "execution_count": 69,
   "metadata": {},
   "outputs": [],
   "source": [
    "tahminDizisi = model.predict(x_test)"
   ]
  },
  {
   "cell_type": "code",
   "execution_count": 72,
   "metadata": {},
   "outputs": [
    {
     "data": {
      "text/plain": [
       "array([[22047.84 ],\n",
       "       [23097.271],\n",
       "       [24985.416],\n",
       "       ...,\n",
       "       [26250.559],\n",
       "       [13206.086],\n",
       "       [24646.98 ]], dtype=float32)"
      ]
     },
     "execution_count": 72,
     "metadata": {},
     "output_type": "execute_result"
    }
   ],
   "source": [
    "tahminDizisi #Bu fiyatlar bizim test datasiyla beraber olan fiyatlarimiz\n",
    "#Ayni zamanda y_test icinde bunun dogru karsiliklari var"
   ]
  },
  {
   "cell_type": "code",
   "execution_count": 73,
   "metadata": {},
   "outputs": [
    {
     "data": {
      "text/plain": [
       "3159.40399403287"
      ]
     },
     "execution_count": 73,
     "metadata": {},
     "output_type": "execute_result"
    }
   ],
   "source": [
    "mean_absolute_error(y_test,tahminDizisi)"
   ]
  },
  {
   "cell_type": "code",
   "execution_count": 74,
   "metadata": {},
   "outputs": [],
   "source": [
    "#Gercek fiyatlar ile tahmini degerler arasi ortalama 3159\n",
    "#fiyat farki var"
   ]
  },
  {
   "cell_type": "code",
   "execution_count": 75,
   "metadata": {},
   "outputs": [
    {
     "data": {
      "text/html": [
       "<div>\n",
       "<style scoped>\n",
       "    .dataframe tbody tr th:only-of-type {\n",
       "        vertical-align: middle;\n",
       "    }\n",
       "\n",
       "    .dataframe tbody tr th {\n",
       "        vertical-align: top;\n",
       "    }\n",
       "\n",
       "    .dataframe thead th {\n",
       "        text-align: right;\n",
       "    }\n",
       "</style>\n",
       "<table border=\"1\" class=\"dataframe\">\n",
       "  <thead>\n",
       "    <tr style=\"text-align: right;\">\n",
       "      <th></th>\n",
       "      <th>year</th>\n",
       "      <th>price</th>\n",
       "      <th>mileage</th>\n",
       "      <th>tax</th>\n",
       "      <th>mpg</th>\n",
       "      <th>engineSize</th>\n",
       "    </tr>\n",
       "  </thead>\n",
       "  <tbody>\n",
       "    <tr>\n",
       "      <th>count</th>\n",
       "      <td>12987.000000</td>\n",
       "      <td>12987.000000</td>\n",
       "      <td>12987.000000</td>\n",
       "      <td>12987.000000</td>\n",
       "      <td>12987.000000</td>\n",
       "      <td>12987.000000</td>\n",
       "    </tr>\n",
       "    <tr>\n",
       "      <th>mean</th>\n",
       "      <td>2017.285516</td>\n",
       "      <td>24074.855779</td>\n",
       "      <td>22133.367367</td>\n",
       "      <td>129.676215</td>\n",
       "      <td>55.438392</td>\n",
       "      <td>2.051059</td>\n",
       "    </tr>\n",
       "    <tr>\n",
       "      <th>std</th>\n",
       "      <td>2.189633</td>\n",
       "      <td>9866.601115</td>\n",
       "      <td>21197.472376</td>\n",
       "      <td>65.167429</td>\n",
       "      <td>15.025902</td>\n",
       "      <td>0.532313</td>\n",
       "    </tr>\n",
       "    <tr>\n",
       "      <th>min</th>\n",
       "      <td>1997.000000</td>\n",
       "      <td>650.000000</td>\n",
       "      <td>1.000000</td>\n",
       "      <td>0.000000</td>\n",
       "      <td>1.100000</td>\n",
       "      <td>0.000000</td>\n",
       "    </tr>\n",
       "    <tr>\n",
       "      <th>25%</th>\n",
       "      <td>2016.000000</td>\n",
       "      <td>17355.000000</td>\n",
       "      <td>6320.000000</td>\n",
       "      <td>125.000000</td>\n",
       "      <td>45.600000</td>\n",
       "      <td>1.700000</td>\n",
       "    </tr>\n",
       "    <tr>\n",
       "      <th>50%</th>\n",
       "      <td>2018.000000</td>\n",
       "      <td>22299.000000</td>\n",
       "      <td>15371.000000</td>\n",
       "      <td>145.000000</td>\n",
       "      <td>56.500000</td>\n",
       "      <td>2.000000</td>\n",
       "    </tr>\n",
       "    <tr>\n",
       "      <th>75%</th>\n",
       "      <td>2019.000000</td>\n",
       "      <td>28706.000000</td>\n",
       "      <td>31986.500000</td>\n",
       "      <td>145.000000</td>\n",
       "      <td>64.200000</td>\n",
       "      <td>2.100000</td>\n",
       "    </tr>\n",
       "    <tr>\n",
       "      <th>max</th>\n",
       "      <td>2020.000000</td>\n",
       "      <td>65990.000000</td>\n",
       "      <td>259000.000000</td>\n",
       "      <td>580.000000</td>\n",
       "      <td>217.300000</td>\n",
       "      <td>6.200000</td>\n",
       "    </tr>\n",
       "  </tbody>\n",
       "</table>\n",
       "</div>"
      ],
      "text/plain": [
       "               year         price        mileage           tax           mpg  \\\n",
       "count  12987.000000  12987.000000   12987.000000  12987.000000  12987.000000   \n",
       "mean    2017.285516  24074.855779   22133.367367    129.676215     55.438392   \n",
       "std        2.189633   9866.601115   21197.472376     65.167429     15.025902   \n",
       "min     1997.000000    650.000000       1.000000      0.000000      1.100000   \n",
       "25%     2016.000000  17355.000000    6320.000000    125.000000     45.600000   \n",
       "50%     2018.000000  22299.000000   15371.000000    145.000000     56.500000   \n",
       "75%     2019.000000  28706.000000   31986.500000    145.000000     64.200000   \n",
       "max     2020.000000  65990.000000  259000.000000    580.000000    217.300000   \n",
       "\n",
       "         engineSize  \n",
       "count  12987.000000  \n",
       "mean       2.051059  \n",
       "std        0.532313  \n",
       "min        0.000000  \n",
       "25%        1.700000  \n",
       "50%        2.000000  \n",
       "75%        2.100000  \n",
       "max        6.200000  "
      ]
     },
     "execution_count": 75,
     "metadata": {},
     "output_type": "execute_result"
    }
   ],
   "source": [
    "df.describe()"
   ]
  },
  {
   "cell_type": "code",
   "execution_count": 76,
   "metadata": {},
   "outputs": [],
   "source": [
    "#3159/24074(mean price) = 0,131220 yani fiyattan %13 oraninda\n",
    "#sapabiliyoruz. Bundan sonrasi bize kalmis. Boylece birakabiliriz\n",
    "#Ya da geri donup veriyi daha fazla temizlemeye calisabiliriz\n",
    "#Test size split size ı degistirebiliriz. epochs u arttirabilirz\n",
    "#Noron sayimizş ve katman sayimizi degistirebiliriz\n",
    "#Ama yine de overfitting e dikkat etmek gerekir\n",
    "#veyahut da bir scatterplot cizdirip bakabiliriz\n",
    "#Bir lineer seklindeyse az cok bu dogrudur diyebiliriz"
   ]
  },
  {
   "cell_type": "code",
   "execution_count": 77,
   "metadata": {},
   "outputs": [
    {
     "data": {
      "text/plain": [
       "[<matplotlib.lines.Line2D at 0x250d62fee08>]"
      ]
     },
     "execution_count": 77,
     "metadata": {},
     "output_type": "execute_result"
    },
    {
     "data": {
      "image/png": "[encoded data removed]",
      "text/plain": [
       "<Figure size 432x288 with 1 Axes>"
      ]
     },
     "metadata": {
      "needs_background": "light"
     },
     "output_type": "display_data"
    }
   ],
   "source": [
    "plt.scatter(y_test,tahminDizisi)\n",
    "plt.plot(y_test,y_test,\"g\")"
   ]
  },
  {
   "cell_type": "code",
   "execution_count": 78,
   "metadata": {},
   "outputs": [],
   "source": [
    "#tahmin verilerimiz ile test icin ayirdigimiz verilerimiz\n",
    "#az cok bir lineer sekilde uyusuyo aslinda"
   ]
  },
  {
   "cell_type": "code",
   "execution_count": 89,
   "metadata": {},
   "outputs": [
    {
     "data": {
      "text/plain": [
       "year           2020.0\n",
       "price         65980.0\n",
       "mileage        3999.0\n",
       "tax             145.0\n",
       "mpg              28.0\n",
       "engineSize        4.0\n",
       "Name: 3191, dtype: float64"
      ]
     },
     "execution_count": 89,
     "metadata": {},
     "output_type": "execute_result"
    }
   ],
   "source": [
    "df.iloc[2] #fiyat 65980"
   ]
  },
  {
   "cell_type": "code",
   "execution_count": 85,
   "metadata": {},
   "outputs": [],
   "source": [
    "yeniArabaSeries = df.drop(\"price\" ,axis = 1).iloc[2]\n",
    "#Artik verisetimizde 65980 fiyatli verimiz yok"
   ]
  },
  {
   "cell_type": "code",
   "execution_count": 86,
   "metadata": {},
   "outputs": [
    {
     "data": {
      "text/plain": [
       "year          2020.0\n",
       "mileage       3999.0\n",
       "tax            145.0\n",
       "mpg             28.0\n",
       "engineSize       4.0\n",
       "Name: 3191, dtype: float64"
      ]
     },
     "execution_count": 86,
     "metadata": {},
     "output_type": "execute_result"
    }
   ],
   "source": [
    "yeniArabaSeries"
   ]
  },
  {
   "cell_type": "code",
   "execution_count": 87,
   "metadata": {},
   "outputs": [],
   "source": [
    "yeniArabaSeries = scaler.transform(yeniArabaSeries.values.reshape(-1,5))"
   ]
  },
  {
   "cell_type": "code",
   "execution_count": 88,
   "metadata": {},
   "outputs": [
    {
     "data": {
      "text/plain": [
       "array([[61346.477]], dtype=float32)"
      ]
     },
     "execution_count": 88,
     "metadata": {},
     "output_type": "execute_result"
    }
   ],
   "source": [
    "model.predict(yeniArabaSeries)"
   ]
  },
  {
   "cell_type": "code",
   "execution_count": null,
   "metadata": {},
   "outputs": [],
   "source": [
    "#Biz burda ne yaptik? Gercek bir veriyi veri setinden cikardik\n",
    "#Sonra da bu veriyle bir tahminleme yaptik\n",
    "#Acaba ne kadar yakin cikartiyo diye"
   ]
  }
 ],
 "metadata": {
  "kernelspec": {
   "display_name": "Python 3",
   "language": "python",
   "name": "python3"
  },
  "language_info": {
   "codemirror_mode": {
    "name": "ipython",
    "version": 3
   },
   "file_extension": ".py",
   "mimetype": "text/x-python",
   "name": "python",
   "nbconvert_exporter": "python",
   "pygments_lexer": "ipython3",
   "version": "3.7.6"
  }
 },
 "nbformat": 4,
 "nbformat_minor": 4
}
