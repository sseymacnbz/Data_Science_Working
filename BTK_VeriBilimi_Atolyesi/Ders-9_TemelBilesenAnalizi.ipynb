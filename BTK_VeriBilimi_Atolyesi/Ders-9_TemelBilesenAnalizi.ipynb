{
 "cells": [
  {
   "cell_type": "markdown",
   "id": "3b6baa30-3c2b-4467-877f-ce0a2387a652",
   "metadata": {},
   "source": [
    "### TEMEL BİLEŞEN ANALİZİ\n",
    "#### Temel Bileşene Analizi Nedir?\n",
    "\n",
    "--TBA, çok boyutlu uzaydaki bir verinin daha düşük boyutlu bir uzaya izdüşümü, varyansı maksimize edecek şekilde bulma yöntemidir. <br>\n",
    "--Uzayda bir noktalar kümesi için, tüm noktalara ortalama uzaklığı en az olan \"en uygun doğru\" seçilir. <br>\n",
    "--Daha sonra bu doğruya dik olanlar arasından yine en uygun doğru seçilerek, bu adımlar, yeni bir boyutun varyansı belirli bir eşiğin altına inene kadar tekrarlanır. <br>\n",
    "--Bu sürecin sonunda elde edilen doğrular, bir doğrusal uzayın tabanlarının oluşturur. Bu taban vektörleine temel bileşen denir. <br>\n",
    "--Verinin temel bileşenleri birbirinden bağımsız olur"
   ]
  },
  {
   "cell_type": "markdown",
   "id": "2cd972f3-f8df-400d-b8ca-88251dca2847",
   "metadata": {},
   "source": [
    "##### Veri Seti Tanıma\n",
    "--TBA için iris veri seti kullanıldı\n",
    "<br>\n",
    "--3 adet sınıf ve her sınıfa ait 4 özellik vardır\n",
    "<br>\n",
    "--Kendime not: Bunun amacı veri setindeki gereksiz duran özellikleri atabilmek ve böylece atıyorum 10 özellik ile işlem yapmak yerine 6 tanesi ile yapabilir hale getirmek"
   ]
  },
  {
   "cell_type": "code",
   "execution_count": 1,
   "id": "ba1ae446-11a4-469b-9e3f-c9bd04422845",
   "metadata": {
    "tags": []
   },
   "outputs": [],
   "source": [
    "import numpy as np\n",
    "import pandas as pd\n",
    "import matplotlib.pyplot as plt\n",
    "import warnings\n",
    "warnings.filterwarnings(\"ignore\")\n",
    "\n",
    "from sklearn.datasets import load_iris"
   ]
  },
  {
   "cell_type": "code",
   "execution_count": 2,
   "id": "84702dc2-9cc7-4ae5-bc42-a9ffa8a2cfef",
   "metadata": {},
   "outputs": [
    {
     "data": {
      "text/html": [
       "<div>\n",
       "<style scoped>\n",
       "    .dataframe tbody tr th:only-of-type {\n",
       "        vertical-align: middle;\n",
       "    }\n",
       "\n",
       "    .dataframe tbody tr th {\n",
       "        vertical-align: top;\n",
       "    }\n",
       "\n",
       "    .dataframe thead th {\n",
       "        text-align: right;\n",
       "    }\n",
       "</style>\n",
       "<table border=\"1\" class=\"dataframe\">\n",
       "  <thead>\n",
       "    <tr style=\"text-align: right;\">\n",
       "      <th></th>\n",
       "      <th>sepal length (cm)</th>\n",
       "      <th>sepal width (cm)</th>\n",
       "      <th>petal length (cm)</th>\n",
       "      <th>petal width (cm)</th>\n",
       "      <th>sinif</th>\n",
       "    </tr>\n",
       "  </thead>\n",
       "  <tbody>\n",
       "    <tr>\n",
       "      <th>0</th>\n",
       "      <td>5.1</td>\n",
       "      <td>3.5</td>\n",
       "      <td>1.4</td>\n",
       "      <td>0.2</td>\n",
       "      <td>0</td>\n",
       "    </tr>\n",
       "    <tr>\n",
       "      <th>1</th>\n",
       "      <td>4.9</td>\n",
       "      <td>3.0</td>\n",
       "      <td>1.4</td>\n",
       "      <td>0.2</td>\n",
       "      <td>0</td>\n",
       "    </tr>\n",
       "    <tr>\n",
       "      <th>2</th>\n",
       "      <td>4.7</td>\n",
       "      <td>3.2</td>\n",
       "      <td>1.3</td>\n",
       "      <td>0.2</td>\n",
       "      <td>0</td>\n",
       "    </tr>\n",
       "  </tbody>\n",
       "</table>\n",
       "</div>"
      ],
      "text/plain": [
       "   sepal length (cm)  sepal width (cm)  petal length (cm)  petal width (cm)  \\\n",
       "0                5.1               3.5                1.4               0.2   \n",
       "1                4.9               3.0                1.4               0.2   \n",
       "2                4.7               3.2                1.3               0.2   \n",
       "\n",
       "   sinif  \n",
       "0      0  \n",
       "1      0  \n",
       "2      0  "
      ]
     },
     "execution_count": 2,
     "metadata": {},
     "output_type": "execute_result"
    }
   ],
   "source": [
    "iris = load_iris()\n",
    "\n",
    "data = iris.data\n",
    "feature_names = iris.feature_names\n",
    "y=iris.target\n",
    "#target in içinde etiketler var\n",
    "\n",
    "df = pd.DataFrame(data, columns=feature_names)\n",
    "df[\"sinif\"] = y\n",
    "df.head(3)"
   ]
  },
  {
   "cell_type": "markdown",
   "id": "a0ce97f7-717a-408f-a217-b902341c4ae3",
   "metadata": {},
   "source": [
    "##### TBA Uygulaması"
   ]
  },
  {
   "cell_type": "code",
   "execution_count": 3,
   "id": "a1d2618b-9b5f-4950-a203-d109be5adedb",
   "metadata": {
    "tags": []
   },
   "outputs": [
    {
     "name": "stdout",
     "output_type": "stream",
     "text": [
      "variance raito..: [0.92461872 0.05306648]\n",
      "sum..: 0.977685206318795\n",
      "\n"
     ]
    }
   ],
   "source": [
    "#PCA\n",
    "from sklearn.decomposition import PCA\n",
    "pca = PCA(n_components=2, whiten=True) #whiten = normalize et. Böylece önce normalize edecek sonra da veriyi öyle fit edeecek\n",
    "#Bana bu 4 boyutlu uzayda öyle bir 2 doğrutu bul ki bunlar varyansı en yüksek yonler olsun\n",
    "pca.fit(data)\n",
    "\n",
    "x_pca = pca.transform(data)\n",
    "\n",
    "print(\"variance raito..:\",pca.explained_variance_ratio_)\n",
    "print(\"sum..:\", sum(pca.explained_variance_ratio_))\n",
    "print()"
   ]
  },
  {
   "cell_type": "code",
   "execution_count": 4,
   "id": "908e2e26-e74d-4b51-9b1b-aaceddde5f2e",
   "metadata": {},
   "outputs": [],
   "source": [
    "#Buradan şu anlaşılır\n",
    "#2 temel bileşen seçmiştik. Öyle 2 temel bileşen var ki\n",
    "#hatta 1. si öyle bir bileşen ki %92 oranında o yöne doğru bir değişim var\n",
    "#2. de %5. böylece neredeyse %97 lik bir etkisi var"
   ]
  },
  {
   "cell_type": "code",
   "execution_count": 5,
   "id": "30dd8773-d0a4-4857-a757-2c95e3000c42",
   "metadata": {},
   "outputs": [],
   "source": [
    "#Velhasıl datasetinde ben 2 boyuta indirgeyerek de\n",
    "#işlemlerimizi yapabiliriz"
   ]
  },
  {
   "cell_type": "code",
   "execution_count": 6,
   "id": "0a140805-a521-4f81-8e97-b3de5f31fa62",
   "metadata": {},
   "outputs": [
    {
     "data": {
      "image/png": "[encoded data removed]",
      "text/plain": [
       "<Figure size 432x288 with 1 Axes>"
      ]
     },
     "metadata": {
      "needs_background": "light"
     },
     "output_type": "display_data"
    }
   ],
   "source": [
    "#Temel bileşenleri görselleştirme\n",
    "\n",
    "df[\"p1\"] = x_pca[:,0]\n",
    "df[\"p2\"] = x_pca[:,1]\n",
    "\n",
    "color = [\"red\",\"green\",\"blue\"]\n",
    "\n",
    "for each in range(3):\n",
    "    plt.scatter(df.p1[df.sinif == each], df.p2[df.sinif == each], color = color[each], label=iris.target_names[each])\n",
    "\n",
    "plt.legend()\n",
    "plt.xlabel(\"p1\")\n",
    "plt.ylabel(\"p2\")\n",
    "plt.show()"
   ]
  },
  {
   "cell_type": "code",
   "execution_count": 7,
   "id": "ea17b855-e620-495b-8aef-45026e8e21f6",
   "metadata": {},
   "outputs": [],
   "source": [
    "#TBA sonucunda setosa sınıfının diğer 2 sınıftan tamamen ayrıldığını görebiliyoruz"
   ]
  },
  {
   "cell_type": "markdown",
   "id": "f0c92673-8d10-47e2-a543-62e586e8590c",
   "metadata": {},
   "source": [
    "#### Özellik Seçimi"
   ]
  },
  {
   "cell_type": "markdown",
   "id": "927892ed-7552-46d9-9cf2-493c6c767df9",
   "metadata": {},
   "source": [
    "#Varyans temelli öznitelik seçimi\n",
    "#Veri setindeki bütün boyutlara bakar. Bu bütün boyutlar içerisinde bizim belirlediğimiz bir eşik threshold değerinin latında kalan sütunları atar"
   ]
  },
  {
   "cell_type": "code",
   "execution_count": 8,
   "id": "08838fdf-fe40-4dcc-8af3-abe4a71aa657",
   "metadata": {},
   "outputs": [],
   "source": [
    "from sklearn.feature_selection import VarianceThreshold\n",
    "X = [[0,0,1], [0,1,0], [1,0,0], [0,1,1], [0,1,0], [0,1,1]]"
   ]
  },
  {
   "cell_type": "code",
   "execution_count": 9,
   "id": "62126537-bbbc-4739-aa71-0eabc3e1321c",
   "metadata": {},
   "outputs": [
    {
     "data": {
      "text/plain": [
       "array([[0, 1],\n",
       "       [1, 0],\n",
       "       [0, 0],\n",
       "       [1, 1],\n",
       "       [1, 0],\n",
       "       [1, 1]])"
      ]
     },
     "execution_count": 9,
     "metadata": {},
     "output_type": "execute_result"
    }
   ],
   "source": [
    "sel = VarianceThreshold(threshold=(0.8 * (1 - 0.8))) # var(x) = p(1-p)\n",
    "sel.fit_transform(X)"
   ]
  },
  {
   "cell_type": "markdown",
   "id": "7ab52c31-13a5-483f-9b19-c911ea78a6d5",
   "metadata": {},
   "source": [
    "#İlk sütunun elenmesini beklerdik\n",
    "#Zira orada 0 değeri olma olasılığı 5/6>0.8\n",
    "\n",
    "Bizim veri setimiz şöyleydi\n",
    "001<br>\n",
    "010<br>\n",
    "100<br>\n",
    "011<br>\n",
    "010<br>\n",
    "011<br>\n",
    "\n",
    "Yani burdan anlayacağımız şu. 1. sütunda fark ettiysen neredeyse çok az değişim olmuş lakin diğer 2 sütun daha çok değişime uğramış\n",
    "<br>\n",
    "Herhangi spesifik bir değerimizin 0.8 den daha fazla bulunma olasılığı var ise o feature yi at demektir"
   ]
  },
  {
   "cell_type": "code",
   "execution_count": 10,
   "id": "8158f1cb-1145-471e-b806-4d78ec92e31a",
   "metadata": {},
   "outputs": [],
   "source": [
    "#İstatistiksel Tabanlı Model Seçimi"
   ]
  },
  {
   "cell_type": "code",
   "execution_count": 11,
   "id": "2bc9afe3-bc80-4784-8734-2b5fcf6f591e",
   "metadata": {},
   "outputs": [
    {
     "data": {
      "text/plain": [
       "(150, 4)"
      ]
     },
     "execution_count": 11,
     "metadata": {},
     "output_type": "execute_result"
    }
   ],
   "source": [
    "from sklearn.datasets import load_iris\n",
    "from sklearn.feature_selection import SelectKBest\n",
    "from sklearn.feature_selection import chi2\n",
    "X, y = load_iris(return_X_y = True)\n",
    "X.shape"
   ]
  },
  {
   "cell_type": "code",
   "execution_count": 12,
   "id": "8944d0c8-50c0-4b08-9d1b-f071ad3cfa71",
   "metadata": {},
   "outputs": [
    {
     "data": {
      "text/plain": [
       "(150, 2)"
      ]
     },
     "execution_count": 12,
     "metadata": {},
     "output_type": "execute_result"
    }
   ],
   "source": [
    "X_new = SelectKBest(chi2, k=2).fit_transform(X, y)\n",
    "X_new.shape"
   ]
  },
  {
   "cell_type": "code",
   "execution_count": 13,
   "id": "767c9d15-54be-4160-87ba-3154e0f27c8b",
   "metadata": {},
   "outputs": [],
   "source": [
    "#chi2 herhangi bir dağılımın normal dağılıma uyumlu olduğunu verir\n",
    "#k adet değişimin en iyi olduğu öznitelikleri bul\n",
    "#Ki biz burada 2 dedik"
   ]
  },
  {
   "cell_type": "code",
   "execution_count": 14,
   "id": "8b01acb9-ae39-46d6-b2f6-822f65ee3a2e",
   "metadata": {},
   "outputs": [],
   "source": [
    "#Model Temelli Özniteli Seçimi"
   ]
  },
  {
   "cell_type": "code",
   "execution_count": 15,
   "id": "ed3c3c7a-202f-4cb2-a4d3-ce9df031d1f3",
   "metadata": {},
   "outputs": [
    {
     "data": {
      "text/plain": [
       "(150, 4)"
      ]
     },
     "execution_count": 15,
     "metadata": {},
     "output_type": "execute_result"
    }
   ],
   "source": [
    "from sklearn.svm import LinearSVC\n",
    "from sklearn.datasets import load_iris\n",
    "from sklearn.feature_selection import SelectFromModel\n",
    "X, y = load_iris(return_X_y = True)\n",
    "X.shape"
   ]
  },
  {
   "cell_type": "code",
   "execution_count": 16,
   "id": "e6277581-d2b2-4f8f-9fae-983200ced74e",
   "metadata": {},
   "outputs": [
    {
     "data": {
      "text/plain": [
       "(150, 3)"
      ]
     },
     "execution_count": 16,
     "metadata": {},
     "output_type": "execute_result"
    }
   ],
   "source": [
    "#Li normu temelli öznitelik seçimi\n",
    "lsvc = LinearSVC(C = 0.01, penalty=\"l1\", dual=False).fit(X, y)\n",
    "model = SelectFromModel(lsvc, prefit=True)\n",
    "X_new = model.transform(X)\n",
    "X_new.shape"
   ]
  },
  {
   "cell_type": "code",
   "execution_count": 17,
   "id": "2c8d4429-54f3-4053-b171-96008853a8d0",
   "metadata": {},
   "outputs": [],
   "source": [
    "#3 niteliğe indirgedi\n",
    "#l1 normu, noktalar arası uzaklığı hesaplarken her bir\n",
    "#nitelik arasındaki farkların mutlak değerlerini toplar"
   ]
  },
  {
   "cell_type": "code",
   "execution_count": 18,
   "id": "fd015f2d-4ce6-47fe-9f2a-590f5c6444e4",
   "metadata": {},
   "outputs": [
    {
     "data": {
      "text/plain": [
       "(150, 2)"
      ]
     },
     "execution_count": 18,
     "metadata": {},
     "output_type": "execute_result"
    }
   ],
   "source": [
    "#l2 normu temelli öznitelik seçimi\n",
    "lsvc = LinearSVC(C = 0.01, penalty=\"l2\", dual=False).fit(X, y)\n",
    "model = SelectFromModel(lsvc, prefit=True)\n",
    "X_new = model.transform(X)\n",
    "X_new.shape"
   ]
  },
  {
   "cell_type": "code",
   "execution_count": 19,
   "id": "f805eb30-b891-4a1d-a160-161b3459e842",
   "metadata": {},
   "outputs": [],
   "source": [
    "#l2 normu da öklid mesafesi yöntemi ile noktalar arası\n",
    "#mesafeleri hesaplar "
   ]
  },
  {
   "cell_type": "code",
   "execution_count": 20,
   "id": "bd1b8a6e-d418-4572-82b3-e96bf9b278c1",
   "metadata": {},
   "outputs": [
    {
     "data": {
      "text/plain": [
       "(150, 4)"
      ]
     },
     "execution_count": 20,
     "metadata": {},
     "output_type": "execute_result"
    }
   ],
   "source": [
    "#Ağaç temelli öznitelik seçimi\n",
    "from sklearn.ensemble import ExtraTreesClassifier\n",
    "from sklearn.datasets import load_iris\n",
    "from sklearn.feature_selection import SelectFromModel\n",
    "X, y = load_iris(return_X_y = True)\n",
    "X.shape"
   ]
  },
  {
   "cell_type": "code",
   "execution_count": 21,
   "id": "dbfb5b71-e633-488b-9a43-911bcf0385c1",
   "metadata": {},
   "outputs": [
    {
     "data": {
      "text/plain": [
       "array([0.09593946, 0.05283734, 0.46614268, 0.38508052])"
      ]
     },
     "execution_count": 21,
     "metadata": {},
     "output_type": "execute_result"
    }
   ],
   "source": [
    "clf = ExtraTreesClassifier(n_estimators=50) #50 farklı ağaç oluşturacak feature selection için\n",
    "clf = clf.fit(X, y)\n",
    "clf.feature_importances_"
   ]
  },
  {
   "cell_type": "code",
   "execution_count": 22,
   "id": "606531dd-62fa-4aa1-a3f6-08731f01edd6",
   "metadata": {},
   "outputs": [],
   "source": [
    "#ilk feature ımın öndemi yaklaşık %9, 2. si %5, 3. %41, 4. sü %43\n",
    "#Yani ilk 2 feature çok da önemli değilmiş"
   ]
  },
  {
   "cell_type": "code",
   "execution_count": 23,
   "id": "0924cbde-e33e-432a-a6d2-1adb2abf13c5",
   "metadata": {},
   "outputs": [
    {
     "data": {
      "text/plain": [
       "(150, 2)"
      ]
     },
     "execution_count": 23,
     "metadata": {},
     "output_type": "execute_result"
    }
   ],
   "source": [
    "model = SelectFromModel(clf, prefit=True)\n",
    "X_new = model.transform(X)\n",
    "X_new.shape\n",
    "#Burada da gereksiz olan feature ları attık"
   ]
  },
  {
   "cell_type": "markdown",
   "id": "b901534a-8e46-4d98-b727-2c33f99b84e9",
   "metadata": {},
   "source": [
    "### Model Seçimi"
   ]
  },
  {
   "cell_type": "markdown",
   "id": "bf4bda09-d9e2-4763-8a87-323389dced8d",
   "metadata": {},
   "source": [
    "Bu kısımda modellerimizi seçerken hangi model daha iyidir veya hangi modelde bir hiperparametrenin ideal değeri ne olmalıdır işine bakıcaz"
   ]
  },
  {
   "cell_type": "markdown",
   "id": "5b8d173e-f60f-4c49-8d81-fca46fa2dcf0",
   "metadata": {},
   "source": [
    "#### Çarpraz Doğrulama"
   ]
  },
  {
   "cell_type": "code",
   "execution_count": 24,
   "id": "10ef7b5c-8d66-49c5-84e5-4757490f2002",
   "metadata": {},
   "outputs": [],
   "source": [
    "from sklearn.datasets import load_iris"
   ]
  },
  {
   "cell_type": "code",
   "execution_count": 25,
   "id": "09756593-fc16-4be9-ab6b-377a164837c3",
   "metadata": {},
   "outputs": [],
   "source": [
    "iris = load_iris()\n",
    "\n",
    "x= iris.data\n",
    "y= iris.target"
   ]
  },
  {
   "cell_type": "code",
   "execution_count": 26,
   "id": "7a01af17-1639-4d80-b01b-99a3f7872e62",
   "metadata": {},
   "outputs": [],
   "source": [
    "x = (x-np.min(x))/(np.max(x)-np.min(x))"
   ]
  },
  {
   "cell_type": "code",
   "execution_count": 27,
   "id": "c26b7726-d3fc-4d40-a946-da4754b9dbdd",
   "metadata": {},
   "outputs": [],
   "source": [
    "from sklearn.model_selection import train_test_split\n",
    "x_train, x_test, y_train, y_test = train_test_split(x,y,test_size = 0.3)"
   ]
  },
  {
   "cell_type": "markdown",
   "id": "b009aa64-ed18-45b5-8da2-b78ef747f9d1",
   "metadata": {},
   "source": [
    "##### Çapraz Doğrulama ile Model Eğitimi\n",
    "Çarpraz doğrulama kulllanarak K-En Yakın Komşu modelinin optimum 'k' değerlerini bulalım"
   ]
  },
  {
   "cell_type": "code",
   "execution_count": 28,
   "id": "229b0c50-7e3a-4eed-a473-7828a9e4beb6",
   "metadata": {},
   "outputs": [
    {
     "data": {
      "text/plain": [
       "KNeighborsClassifier(n_neighbors=3)"
      ]
     },
     "execution_count": 28,
     "metadata": {},
     "output_type": "execute_result"
    }
   ],
   "source": [
    "from sklearn.neighbors import KNeighborsClassifier\n",
    "knn = KNeighborsClassifier(n_neighbors=3)\n",
    "knn"
   ]
  },
  {
   "cell_type": "code",
   "execution_count": 29,
   "id": "337397f8-b121-4e2d-9d48-2ae3315c157a",
   "metadata": {
    "tags": []
   },
   "outputs": [
    {
     "name": "stdout",
     "output_type": "stream",
     "text": [
      "Ortalama doğruluk..: 0.9718181818181819\n",
      "Doğrulukların Standart Sapması..: 0.04311238436865228\n"
     ]
    }
   ],
   "source": [
    "#10 fold(katlamalı) çarpraz doğrulama yapalı\n",
    "#Yani verimizi 10 parçaya bölücez\n",
    "\n",
    "from sklearn.model_selection import cross_val_score\n",
    "fold_sayisi = 10\n",
    "dogruluklar = cross_val_score(estimator=knn, X=x_train, y=y_train, cv =  fold_sayisi)#10 katlı çarpraz doğrulama\n",
    "print(\"Ortalama doğruluk..:\",np.mean(dogruluklar))\n",
    "print(\"Doğrulukların Standart Sapması..:\",np.std(dogruluklar))\n",
    "#dogruluklar değişkeninde 10 tane değişkenimiz var. Bunu 10 kere işlem yapması sonucunda elde etti.\n",
    "#Bunların ortalamasını aldık %97, s.sapma ise %4 çıktı\n",
    "#bu durumda k=3 verdiğimizde 97-4 / 97+4 arasında bir doğruluk elde edebiliriz. Böylece bu k=3 dğerini kullanmak gayet iyidir\n",
    "#Standart sapmanın da düşük çıkması bizim için iyidir"
   ]
  },
  {
   "cell_type": "markdown",
   "id": "c1d8bb21-d61c-47b2-8b75-efee07cc4e87",
   "metadata": {},
   "source": [
    "#### Izgara Araması Çarpraz Doğrulama"
   ]
  },
  {
   "cell_type": "code",
   "execution_count": 30,
   "id": "e2bb2791-6c9d-4c5d-bade-505253739415",
   "metadata": {},
   "outputs": [],
   "source": [
    "#Biz yukarıda k 3 verirsem iyi olur mu diye bir sorunun cevabını aldık\n",
    "#Bu doğrulamada ise k değeri ne olursa iyi olur un cevabını bulabiliriz"
   ]
  },
  {
   "cell_type": "code",
   "execution_count": 31,
   "id": "174b5e3c-ba4d-43fc-bef0-503ca0617e64",
   "metadata": {},
   "outputs": [],
   "source": [
    "from sklearn.datasets import load_iris"
   ]
  },
  {
   "cell_type": "code",
   "execution_count": 32,
   "id": "2daa27eb-f433-407d-a4cf-302334ddb24e",
   "metadata": {},
   "outputs": [],
   "source": [
    "iris = load_iris()\n",
    "\n",
    "x= iris.data\n",
    "y= iris.target\n",
    "\n",
    "x = (x-np.min(x))/(np.max(x)-np.min(x))\n",
    "x_train, x_test, y_train, y_test = train_test_split(x,y,test_size = 0.3)"
   ]
  },
  {
   "cell_type": "code",
   "execution_count": 33,
   "id": "5e2a405f-eba9-45ab-95d4-d415cc297fed",
   "metadata": {},
   "outputs": [],
   "source": [
    "knn = KNeighborsClassifier(n_neighbors=3)"
   ]
  },
  {
   "cell_type": "code",
   "execution_count": 35,
   "id": "1ac5c120-10c0-4f24-b624-ea105b33b8c7",
   "metadata": {},
   "outputs": [
    {
     "data": {
      "text/plain": [
       "GridSearchCV(cv=10, estimator=KNeighborsClassifier(n_neighbors=3),\n",
       "             param_grid={'n_neighbors': array([ 1,  2,  3,  4,  5,  6,  7,  8,  9, 10, 11, 12, 13, 14, 15, 16, 17,\n",
       "       18, 19, 20, 21, 22, 23, 24, 25, 26, 27, 28, 29, 30, 31, 32, 33, 34,\n",
       "       35, 36, 37, 38, 39, 40, 41, 42, 43, 44, 45, 46, 47, 48, 49])})"
      ]
     },
     "execution_count": 35,
     "metadata": {},
     "output_type": "execute_result"
    }
   ],
   "source": [
    "from sklearn.model_selection import GridSearchCV\n",
    "\n",
    "grid = {\"n_neighbors\":np.arange(1,50)}\n",
    "knnn = KNeighborsClassifier()\n",
    "\n",
    "knn_cv = GridSearchCV(knn, grid, cv=10)\n",
    "knn_cv.fit(x,y)"
   ]
  },
  {
   "cell_type": "code",
   "execution_count": 36,
   "id": "96bea22c-b214-467a-9e21-d07c67dc2171",
   "metadata": {},
   "outputs": [],
   "source": [
    "#1den 50 hariç tüm sayıları k yerine veri 10 katlamalı \n",
    "#cross validation yapıyr"
   ]
  },
  {
   "cell_type": "code",
   "execution_count": 37,
   "id": "45c4fc2f-cfeb-4dcc-8cc6-99d6cc998631",
   "metadata": {},
   "outputs": [
    {
     "name": "stdout",
     "output_type": "stream",
     "text": [
      "En iyi k değeri..: {'n_neighbors': 13}\n",
      "En iyi k değerine göre en iyi doğruluk değeri..: 0.9800000000000001\n"
     ]
    }
   ],
   "source": [
    "print(\"En iyi k değeri..:\",knn_cv.best_params_)\n",
    "print(\"En iyi k değerine göre en iyi doğruluk değeri..:\",knn_cv.best_score_)"
   ]
  },
  {
   "cell_type": "markdown",
   "id": "0d3014c3-1948-490e-9d23-e54a01ef60c6",
   "metadata": {},
   "source": [
    "Şimdi de lojistik regresyon modeli için en iyi parametreleri bulalm"
   ]
  },
  {
   "cell_type": "code",
   "execution_count": 38,
   "id": "11378382-5b77-4067-bc65-75047157a73f",
   "metadata": {},
   "outputs": [
    {
     "name": "stdout",
     "output_type": "stream",
     "text": [
      "En iyi hiperparametreler..: {'C': 1000.0, 'penalty': 'l2'}\n",
      "En iyi hiperparametrelere göre en iyi doğruluk değeri..: 0.9800000000000001\n"
     ]
    }
   ],
   "source": [
    "from sklearn.linear_model import LogisticRegression\n",
    "\n",
    "grid = {\"C\":np.logspace(-3,3,7), \"penalty\":[\"l1\",\"l2\"]}\n",
    "\n",
    "logreg = LogisticRegression()\n",
    "logreg_cv = GridSearchCV(logreg, grid, cv = 10)\n",
    "logreg_cv.fit(x,y)\n",
    "print(\"En iyi hiperparametreler..:\",logreg_cv.best_params_)\n",
    "print(\"En iyi hiperparametrelere göre en iyi doğruluk değeri..:\",logreg_cv.best_score_)"
   ]
  },
  {
   "cell_type": "code",
   "execution_count": 39,
   "id": "2921a107-500d-4340-bfa2-0ca0ee21878c",
   "metadata": {},
   "outputs": [],
   "source": [
    "#logspaceile 10^-3 ve 10^3 arasında 7 tane sayı oluşturmak için kullanmışız"
   ]
  },
  {
   "cell_type": "markdown",
   "id": "b1bddeb7-6cf4-4ccf-a216-b756e615b7e9",
   "metadata": {},
   "source": [
    "### DERİN ÖĞRENME\n",
    "Verinin büyüklüğü arttıkça ML modellerindeki performans düşer ama DL modellerinde performans doğrusal bir şekilde devam eder\n",
    "<br>\n",
    "Peki büyüklükten kasıt nedir? Görecelik olmakla beraber şimdiki teknolojik durumlar vs göz önüne alınırsa 1 milyon örneğe büyük miktarda veri diyebiliriz"
   ]
  },
  {
   "cell_type": "markdown",
   "id": "c77ff376-890d-413e-8c70-5b7ed99e4492",
   "metadata": {},
   "source": [
    "ML de biz öznitelikleri modele verirken DL de öznitelikleri kendisi çıkarır"
   ]
  },
  {
   "cell_type": "markdown",
   "id": "6205962b-99f8-4de7-99e9-9afc5bc72d06",
   "metadata": {},
   "source": [
    "Tensorflow en çok kullanılan DL kütüphanesi. Keras da yine Tf üzerine kurulmuştur. Tf Lite versiyonu daha çok mobil ve gömülü cihazlar için kullanılması içindir 'hoca dedi ki gömülü sistemlerde yapay zeka kullanımına uygunsa eğer muhakkak bakın çok önemli dedi'"
   ]
  },
  {
   "cell_type": "markdown",
   "id": "25b2b01b-9de1-49d5-ad98-a75b519d4b5c",
   "metadata": {},
   "source": [
    "Tf özelinde TPU mimarisi vardır. GPU CPU ya göre daha özelleştirilmiştir. TPU ise GPU dan daha gelişmiştir"
   ]
  },
  {
   "cell_type": "markdown",
   "id": "52fac41d-8b08-41d0-a4a6-7f785deff0cb",
   "metadata": {},
   "source": [
    "Tf Lite, ios android ve gömülü sistemlerde çalışıyormuş."
   ]
  },
  {
   "cell_type": "markdown",
   "id": "1c4b51f8-eb3e-44c8-aa72-7ccbb278db82",
   "metadata": {},
   "source": [
    "#### Veri Setini Tanıma\n",
    "--MNIST veri setinde çeşitli görüntüler var. Rakamların el yazısıyla  yazılması sonucu oluşmuş büyük bir veritabanıdır.\n",
    "<br>\n",
    "--Normalde 10 tane rakam var biz şimdilik sadece 0 ve 1 rakamlarının tanınması için işlemler yaacağız<br>\n",
    "--Veri setinde 42000 resim vardır ve bunlar 28x28 pxelden oluşru\n"
   ]
  },
  {
   "cell_type": "code",
   "execution_count": 40,
   "id": "29cc8af2-f4c3-43ed-973f-40fc31a331c5",
   "metadata": {},
   "outputs": [],
   "source": [
    "import numpy as np\n",
    "import pandas as pd\n",
    "import seaborn as sns\n",
    "import matplotlib.pyplot as plt\n",
    "\n",
    "import warnings\n",
    "warnings.filterwarnings(\"ignore\")\n",
    "\n",
    "#DL için keras kullanıcaz ama test eğitim bölünmesi için de sklearn a ihtiyaç var\n",
    "from sklearn.model_selection import train_test_split"
   ]
  },
  {
   "cell_type": "code",
   "execution_count": 41,
   "id": "6f10f85c-505f-4058-9f79-f6e0c8b93eee",
   "metadata": {},
   "outputs": [
    {
     "ename": "FileNotFoundError",
     "evalue": "[Errno 2] No such file or directory: 'egitim.csv'",
     "output_type": "error",
     "traceback": [
      "\u001b[1;31m---------------------------------------------------------------------------\u001b[0m",
      "\u001b[1;31mFileNotFoundError\u001b[0m                         Traceback (most recent call last)",
      "\u001b[1;32m~\\AppData\\Local\\Temp/ipykernel_13568/403501142.py\u001b[0m in \u001b[0;36m<module>\u001b[1;34m\u001b[0m\n\u001b[1;32m----> 1\u001b[1;33m \u001b[0mveri\u001b[0m \u001b[1;33m=\u001b[0m \u001b[0mpd\u001b[0m\u001b[1;33m.\u001b[0m\u001b[0mread_csv\u001b[0m\u001b[1;33m(\u001b[0m\u001b[1;34m\"egitim.csv\"\u001b[0m\u001b[1;33m)\u001b[0m\u001b[1;33m\u001b[0m\u001b[1;33m\u001b[0m\u001b[0m\n\u001b[0m\u001b[0;32m      2\u001b[0m \u001b[0mprint\u001b[0m\u001b[1;33m(\u001b[0m\u001b[1;34m\"Verinin Boyutu\"\u001b[0m\u001b[1;33m,\u001b[0m \u001b[0mveri\u001b[0m\u001b[1;33m.\u001b[0m\u001b[0mshape\u001b[0m\u001b[1;33m)\u001b[0m\u001b[1;33m\u001b[0m\u001b[1;33m\u001b[0m\u001b[0m\n\u001b[0;32m      3\u001b[0m \u001b[0mveri\u001b[0m\u001b[1;33m.\u001b[0m\u001b[0mhead\u001b[0m\u001b[1;33m(\u001b[0m\u001b[1;33m)\u001b[0m\u001b[1;33m\u001b[0m\u001b[1;33m\u001b[0m\u001b[0m\n",
      "\u001b[1;32m~\\anaconda3\\envs\\kod\\lib\\site-packages\\pandas\\io\\parsers.py\u001b[0m in \u001b[0;36mread_csv\u001b[1;34m(filepath_or_buffer, sep, delimiter, header, names, index_col, usecols, squeeze, prefix, mangle_dupe_cols, dtype, engine, converters, true_values, false_values, skipinitialspace, skiprows, skipfooter, nrows, na_values, keep_default_na, na_filter, verbose, skip_blank_lines, parse_dates, infer_datetime_format, keep_date_col, date_parser, dayfirst, cache_dates, iterator, chunksize, compression, thousands, decimal, lineterminator, quotechar, quoting, doublequote, escapechar, comment, encoding, dialect, error_bad_lines, warn_bad_lines, delim_whitespace, low_memory, memory_map, float_precision)\u001b[0m\n\u001b[0;32m    684\u001b[0m     )\n\u001b[0;32m    685\u001b[0m \u001b[1;33m\u001b[0m\u001b[0m\n\u001b[1;32m--> 686\u001b[1;33m     \u001b[1;32mreturn\u001b[0m \u001b[0m_read\u001b[0m\u001b[1;33m(\u001b[0m\u001b[0mfilepath_or_buffer\u001b[0m\u001b[1;33m,\u001b[0m \u001b[0mkwds\u001b[0m\u001b[1;33m)\u001b[0m\u001b[1;33m\u001b[0m\u001b[1;33m\u001b[0m\u001b[0m\n\u001b[0m\u001b[0;32m    687\u001b[0m \u001b[1;33m\u001b[0m\u001b[0m\n\u001b[0;32m    688\u001b[0m \u001b[1;33m\u001b[0m\u001b[0m\n",
      "\u001b[1;32m~\\anaconda3\\envs\\kod\\lib\\site-packages\\pandas\\io\\parsers.py\u001b[0m in \u001b[0;36m_read\u001b[1;34m(filepath_or_buffer, kwds)\u001b[0m\n\u001b[0;32m    450\u001b[0m \u001b[1;33m\u001b[0m\u001b[0m\n\u001b[0;32m    451\u001b[0m     \u001b[1;31m# Create the parser.\u001b[0m\u001b[1;33m\u001b[0m\u001b[1;33m\u001b[0m\u001b[1;33m\u001b[0m\u001b[0m\n\u001b[1;32m--> 452\u001b[1;33m     \u001b[0mparser\u001b[0m \u001b[1;33m=\u001b[0m \u001b[0mTextFileReader\u001b[0m\u001b[1;33m(\u001b[0m\u001b[0mfp_or_buf\u001b[0m\u001b[1;33m,\u001b[0m \u001b[1;33m**\u001b[0m\u001b[0mkwds\u001b[0m\u001b[1;33m)\u001b[0m\u001b[1;33m\u001b[0m\u001b[1;33m\u001b[0m\u001b[0m\n\u001b[0m\u001b[0;32m    453\u001b[0m \u001b[1;33m\u001b[0m\u001b[0m\n\u001b[0;32m    454\u001b[0m     \u001b[1;32mif\u001b[0m \u001b[0mchunksize\u001b[0m \u001b[1;32mor\u001b[0m \u001b[0miterator\u001b[0m\u001b[1;33m:\u001b[0m\u001b[1;33m\u001b[0m\u001b[1;33m\u001b[0m\u001b[0m\n",
      "\u001b[1;32m~\\anaconda3\\envs\\kod\\lib\\site-packages\\pandas\\io\\parsers.py\u001b[0m in \u001b[0;36m__init__\u001b[1;34m(self, f, engine, **kwds)\u001b[0m\n\u001b[0;32m    944\u001b[0m             \u001b[0mself\u001b[0m\u001b[1;33m.\u001b[0m\u001b[0moptions\u001b[0m\u001b[1;33m[\u001b[0m\u001b[1;34m\"has_index_names\"\u001b[0m\u001b[1;33m]\u001b[0m \u001b[1;33m=\u001b[0m \u001b[0mkwds\u001b[0m\u001b[1;33m[\u001b[0m\u001b[1;34m\"has_index_names\"\u001b[0m\u001b[1;33m]\u001b[0m\u001b[1;33m\u001b[0m\u001b[1;33m\u001b[0m\u001b[0m\n\u001b[0;32m    945\u001b[0m \u001b[1;33m\u001b[0m\u001b[0m\n\u001b[1;32m--> 946\u001b[1;33m         \u001b[0mself\u001b[0m\u001b[1;33m.\u001b[0m\u001b[0m_make_engine\u001b[0m\u001b[1;33m(\u001b[0m\u001b[0mself\u001b[0m\u001b[1;33m.\u001b[0m\u001b[0mengine\u001b[0m\u001b[1;33m)\u001b[0m\u001b[1;33m\u001b[0m\u001b[1;33m\u001b[0m\u001b[0m\n\u001b[0m\u001b[0;32m    947\u001b[0m \u001b[1;33m\u001b[0m\u001b[0m\n\u001b[0;32m    948\u001b[0m     \u001b[1;32mdef\u001b[0m \u001b[0mclose\u001b[0m\u001b[1;33m(\u001b[0m\u001b[0mself\u001b[0m\u001b[1;33m)\u001b[0m\u001b[1;33m:\u001b[0m\u001b[1;33m\u001b[0m\u001b[1;33m\u001b[0m\u001b[0m\n",
      "\u001b[1;32m~\\anaconda3\\envs\\kod\\lib\\site-packages\\pandas\\io\\parsers.py\u001b[0m in \u001b[0;36m_make_engine\u001b[1;34m(self, engine)\u001b[0m\n\u001b[0;32m   1176\u001b[0m     \u001b[1;32mdef\u001b[0m \u001b[0m_make_engine\u001b[0m\u001b[1;33m(\u001b[0m\u001b[0mself\u001b[0m\u001b[1;33m,\u001b[0m \u001b[0mengine\u001b[0m\u001b[1;33m=\u001b[0m\u001b[1;34m\"c\"\u001b[0m\u001b[1;33m)\u001b[0m\u001b[1;33m:\u001b[0m\u001b[1;33m\u001b[0m\u001b[1;33m\u001b[0m\u001b[0m\n\u001b[0;32m   1177\u001b[0m         \u001b[1;32mif\u001b[0m \u001b[0mengine\u001b[0m \u001b[1;33m==\u001b[0m \u001b[1;34m\"c\"\u001b[0m\u001b[1;33m:\u001b[0m\u001b[1;33m\u001b[0m\u001b[1;33m\u001b[0m\u001b[0m\n\u001b[1;32m-> 1178\u001b[1;33m             \u001b[0mself\u001b[0m\u001b[1;33m.\u001b[0m\u001b[0m_engine\u001b[0m \u001b[1;33m=\u001b[0m \u001b[0mCParserWrapper\u001b[0m\u001b[1;33m(\u001b[0m\u001b[0mself\u001b[0m\u001b[1;33m.\u001b[0m\u001b[0mf\u001b[0m\u001b[1;33m,\u001b[0m \u001b[1;33m**\u001b[0m\u001b[0mself\u001b[0m\u001b[1;33m.\u001b[0m\u001b[0moptions\u001b[0m\u001b[1;33m)\u001b[0m\u001b[1;33m\u001b[0m\u001b[1;33m\u001b[0m\u001b[0m\n\u001b[0m\u001b[0;32m   1179\u001b[0m         \u001b[1;32melse\u001b[0m\u001b[1;33m:\u001b[0m\u001b[1;33m\u001b[0m\u001b[1;33m\u001b[0m\u001b[0m\n\u001b[0;32m   1180\u001b[0m             \u001b[1;32mif\u001b[0m \u001b[0mengine\u001b[0m \u001b[1;33m==\u001b[0m \u001b[1;34m\"python\"\u001b[0m\u001b[1;33m:\u001b[0m\u001b[1;33m\u001b[0m\u001b[1;33m\u001b[0m\u001b[0m\n",
      "\u001b[1;32m~\\anaconda3\\envs\\kod\\lib\\site-packages\\pandas\\io\\parsers.py\u001b[0m in \u001b[0;36m__init__\u001b[1;34m(self, src, **kwds)\u001b[0m\n\u001b[0;32m   2006\u001b[0m         \u001b[0mkwds\u001b[0m\u001b[1;33m[\u001b[0m\u001b[1;34m\"usecols\"\u001b[0m\u001b[1;33m]\u001b[0m \u001b[1;33m=\u001b[0m \u001b[0mself\u001b[0m\u001b[1;33m.\u001b[0m\u001b[0musecols\u001b[0m\u001b[1;33m\u001b[0m\u001b[1;33m\u001b[0m\u001b[0m\n\u001b[0;32m   2007\u001b[0m \u001b[1;33m\u001b[0m\u001b[0m\n\u001b[1;32m-> 2008\u001b[1;33m         \u001b[0mself\u001b[0m\u001b[1;33m.\u001b[0m\u001b[0m_reader\u001b[0m \u001b[1;33m=\u001b[0m \u001b[0mparsers\u001b[0m\u001b[1;33m.\u001b[0m\u001b[0mTextReader\u001b[0m\u001b[1;33m(\u001b[0m\u001b[0msrc\u001b[0m\u001b[1;33m,\u001b[0m \u001b[1;33m**\u001b[0m\u001b[0mkwds\u001b[0m\u001b[1;33m)\u001b[0m\u001b[1;33m\u001b[0m\u001b[1;33m\u001b[0m\u001b[0m\n\u001b[0m\u001b[0;32m   2009\u001b[0m         \u001b[0mself\u001b[0m\u001b[1;33m.\u001b[0m\u001b[0munnamed_cols\u001b[0m \u001b[1;33m=\u001b[0m \u001b[0mself\u001b[0m\u001b[1;33m.\u001b[0m\u001b[0m_reader\u001b[0m\u001b[1;33m.\u001b[0m\u001b[0munnamed_cols\u001b[0m\u001b[1;33m\u001b[0m\u001b[1;33m\u001b[0m\u001b[0m\n\u001b[0;32m   2010\u001b[0m \u001b[1;33m\u001b[0m\u001b[0m\n",
      "\u001b[1;32mpandas\\_libs\\parsers.pyx\u001b[0m in \u001b[0;36mpandas._libs.parsers.TextReader.__cinit__\u001b[1;34m()\u001b[0m\n",
      "\u001b[1;32mpandas\\_libs\\parsers.pyx\u001b[0m in \u001b[0;36mpandas._libs.parsers.TextReader._setup_parser_source\u001b[1;34m()\u001b[0m\n",
      "\u001b[1;31mFileNotFoundError\u001b[0m: [Errno 2] No such file or directory: 'egitim.csv'"
     ]
    }
   ],
   "source": [
    "veri = pd.read_csv(\"egitim.csv\")\n",
    "print(\"Verinin Boyutu\", veri.shape)\n",
    "veri.head()"
   ]
  },
  {
   "cell_type": "code",
   "execution_count": null,
   "id": "99d3dff1-951f-4719-919a-872022a9424f",
   "metadata": {},
   "outputs": [],
   "source": []
  }
 ],
 "metadata": {
  "kernelspec": {
   "display_name": "Python 3 (ipykernel)",
   "language": "python",
   "name": "python3"
  },
  "language_info": {
   "codemirror_mode": {
    "name": "ipython",
    "version": 3
   },
   "file_extension": ".py",
   "mimetype": "text/x-python",
   "name": "python",
   "nbconvert_exporter": "python",
   "pygments_lexer": "ipython3",
   "version": "3.7.9"
  }
 },
 "nbformat": 4,
 "nbformat_minor": 5
}
